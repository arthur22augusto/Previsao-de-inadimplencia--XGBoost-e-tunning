{
 "cells": [
  {
   "cell_type": "code",
   "execution_count": 6,
   "id": "af46bd25",
   "metadata": {},
   "outputs": [],
   "source": [
    "import pandas as pd\n",
    "import os\n",
    "import numpy as np\n",
    "import seaborn as sns\n",
    "import matplotlib.pyplot as plt\n",
    "\n",
    "pd.options.display.float_format = '{:.2f}'.format "
   ]
  },
  {
   "cell_type": "code",
   "execution_count": 7,
   "id": "6c731e9e",
   "metadata": {},
   "outputs": [
    {
     "name": "stdout",
     "output_type": "stream",
     "text": [
      "Baixando e lendo base_cadastral.csv...\n",
      "Arquivo base_cadastral.csv salvo em ../data/raw/base_cadastral.csv\n",
      "Baixando e lendo base_info.csv...\n",
      "Arquivo base_info.csv salvo em ../data/raw/base_info.csv\n",
      "Baixando e lendo base_pagamentos_desenvolvimento.csv...\n",
      "Arquivo base_pagamentos_desenvolvimento.csv salvo em ../data/raw/base_pagamentos_desenvolvimento.csv\n",
      "Baixando e lendo base_pagamentos_teste.csv...\n",
      "Arquivo base_pagamentos_teste.csv salvo em ../data/raw/base_pagamentos_teste.csv\n",
      "\n",
      "Arquivos carregados e salvos com sucesso!\n"
     ]
    }
   ],
   "source": [
    "base_url = \"https://raw.githubusercontent.com/datarisk-io/datarisk-case-ds-junior/177db4cc1cc2dc883e1f7f1cb205ceda365fe51d/data/\"\n",
    "\n",
    "# Nomes dos arquivos\n",
    "file_names = {\n",
    "    \"base_cadastral\": \"base_cadastral.csv\",\n",
    "    \"base_info\": \"base_info.csv\",\n",
    "    \"base_pagamentos_desenvolvimento\": \"base_pagamentos_desenvolvimento.csv\",\n",
    "    \"base_pagamentos_teste\": \"base_pagamentos_teste.csv\"\n",
    "}\n",
    "\n",
    "# Caminho para a pasta raw\n",
    "raw_data_path = \"../data/raw/\"\n",
    "\n",
    "\n",
    "# Dicionário para armazenar os dataframes\n",
    "dataframes = {}\n",
    "\n",
    "# Iterar sobre os arquivos, baixar, ler e salvar\n",
    "for df_name, file_name in file_names.items():\n",
    "    file_url = base_url + file_name\n",
    "    local_file_path = os.path.join(raw_data_path, file_name)\n",
    "\n",
    "    print(f\"Baixando e lendo {file_name}...\")\n",
    "    try:\n",
    "        # Ler o arquivo diretamente da URL\n",
    "        dataframes[df_name] = pd.read_csv(file_url, sep=\";\")\n",
    "\n",
    "        # Salvar o arquivo localmente na pasta raw\n",
    "        dataframes[df_name].to_csv(local_file_path, sep=\";\", index=False)\n",
    "        print(f\"Arquivo {file_name} salvo em {local_file_path}\")\n",
    "    except Exception as e:\n",
    "        print(f\"Erro ao processar {file_name}: {e}\")\n",
    "\n",
    "data_cadastro = dataframes[\"base_cadastral\"]\n",
    "data_hist = dataframes[\"base_info\"]\n",
    "data_pagamentos = dataframes[\"base_pagamentos_desenvolvimento\"]\n",
    "data_objetivo = dataframes[\"base_pagamentos_teste\"]\n",
    "\n",
    "print(\"\\nArquivos carregados e salvos com sucesso!\")\n"
   ]
  },
  {
   "cell_type": "markdown",
   "id": "807940fd",
   "metadata": {},
   "source": [
    "# Análise exploratória"
   ]
  },
  {
   "cell_type": "markdown",
   "id": "e08b6bfa",
   "metadata": {},
   "source": [
    "## Análise da base cadastral"
   ]
  },
  {
   "cell_type": "code",
   "execution_count": 8,
   "id": "345c215d",
   "metadata": {},
   "outputs": [
    {
     "data": {
      "text/html": [
       "<div>\n",
       "<style scoped>\n",
       "    .dataframe tbody tr th:only-of-type {\n",
       "        vertical-align: middle;\n",
       "    }\n",
       "\n",
       "    .dataframe tbody tr th {\n",
       "        vertical-align: top;\n",
       "    }\n",
       "\n",
       "    .dataframe thead th {\n",
       "        text-align: right;\n",
       "    }\n",
       "</style>\n",
       "<table border=\"1\" class=\"dataframe\">\n",
       "  <thead>\n",
       "    <tr style=\"text-align: right;\">\n",
       "      <th></th>\n",
       "      <th>ID_CLIENTE</th>\n",
       "      <th>DATA_CADASTRO</th>\n",
       "      <th>DDD</th>\n",
       "      <th>FLAG_PF</th>\n",
       "      <th>SEGMENTO_INDUSTRIAL</th>\n",
       "      <th>DOMINIO_EMAIL</th>\n",
       "      <th>PORTE</th>\n",
       "      <th>CEP_2_DIG</th>\n",
       "    </tr>\n",
       "  </thead>\n",
       "  <tbody>\n",
       "    <tr>\n",
       "      <th>0</th>\n",
       "      <td>1661240395903230676</td>\n",
       "      <td>2013-08-22</td>\n",
       "      <td>99</td>\n",
       "      <td>NaN</td>\n",
       "      <td>Serviços</td>\n",
       "      <td>YAHOO</td>\n",
       "      <td>PEQUENO</td>\n",
       "      <td>65</td>\n",
       "    </tr>\n",
       "    <tr>\n",
       "      <th>1</th>\n",
       "      <td>8274986328479596038</td>\n",
       "      <td>2017-01-25</td>\n",
       "      <td>31</td>\n",
       "      <td>NaN</td>\n",
       "      <td>Comércio</td>\n",
       "      <td>YAHOO</td>\n",
       "      <td>MEDIO</td>\n",
       "      <td>77</td>\n",
       "    </tr>\n",
       "    <tr>\n",
       "      <th>2</th>\n",
       "      <td>345447888460137901</td>\n",
       "      <td>2000-08-15</td>\n",
       "      <td>75</td>\n",
       "      <td>NaN</td>\n",
       "      <td>Serviços</td>\n",
       "      <td>HOTMAIL</td>\n",
       "      <td>PEQUENO</td>\n",
       "      <td>48</td>\n",
       "    </tr>\n",
       "    <tr>\n",
       "      <th>3</th>\n",
       "      <td>1003144834589372198</td>\n",
       "      <td>2017-08-06</td>\n",
       "      <td>49</td>\n",
       "      <td>NaN</td>\n",
       "      <td>Serviços</td>\n",
       "      <td>OUTLOOK</td>\n",
       "      <td>PEQUENO</td>\n",
       "      <td>89</td>\n",
       "    </tr>\n",
       "    <tr>\n",
       "      <th>4</th>\n",
       "      <td>324916756972236008</td>\n",
       "      <td>2011-02-14</td>\n",
       "      <td>88</td>\n",
       "      <td>NaN</td>\n",
       "      <td>Serviços</td>\n",
       "      <td>GMAIL</td>\n",
       "      <td>GRANDE</td>\n",
       "      <td>62</td>\n",
       "    </tr>\n",
       "  </tbody>\n",
       "</table>\n",
       "</div>"
      ],
      "text/plain": [
       "            ID_CLIENTE DATA_CADASTRO DDD FLAG_PF SEGMENTO_INDUSTRIAL  \\\n",
       "0  1661240395903230676    2013-08-22  99     NaN            Serviços   \n",
       "1  8274986328479596038    2017-01-25  31     NaN            Comércio   \n",
       "2   345447888460137901    2000-08-15  75     NaN            Serviços   \n",
       "3  1003144834589372198    2017-08-06  49     NaN            Serviços   \n",
       "4   324916756972236008    2011-02-14  88     NaN            Serviços   \n",
       "\n",
       "  DOMINIO_EMAIL    PORTE CEP_2_DIG  \n",
       "0         YAHOO  PEQUENO        65  \n",
       "1         YAHOO    MEDIO        77  \n",
       "2       HOTMAIL  PEQUENO        48  \n",
       "3       OUTLOOK  PEQUENO        89  \n",
       "4         GMAIL   GRANDE        62  "
      ]
     },
     "execution_count": 8,
     "metadata": {},
     "output_type": "execute_result"
    }
   ],
   "source": [
    "#Visualização inicial\n",
    "data_cadastro.head()"
   ]
  },
  {
   "cell_type": "code",
   "execution_count": 9,
   "id": "9f68ac41",
   "metadata": {},
   "outputs": [
    {
     "name": "stdout",
     "output_type": "stream",
     "text": [
      "<class 'pandas.core.frame.DataFrame'>\n",
      "RangeIndex: 1315 entries, 0 to 1314\n",
      "Data columns (total 8 columns):\n",
      " #   Column               Non-Null Count  Dtype \n",
      "---  ------               --------------  ----- \n",
      " 0   ID_CLIENTE           1315 non-null   int64 \n",
      " 1   DATA_CADASTRO        1315 non-null   object\n",
      " 2   DDD                  1078 non-null   object\n",
      " 3   FLAG_PF              66 non-null     object\n",
      " 4   SEGMENTO_INDUSTRIAL  1232 non-null   object\n",
      " 5   DOMINIO_EMAIL        1285 non-null   object\n",
      " 6   PORTE                1274 non-null   object\n",
      " 7   CEP_2_DIG            1315 non-null   object\n",
      "dtypes: int64(1), object(7)\n",
      "memory usage: 82.3+ KB\n"
     ]
    }
   ],
   "source": [
    "data_cadastro.info()"
   ]
  },
  {
   "cell_type": "code",
   "execution_count": 10,
   "id": "08b8e129",
   "metadata": {},
   "outputs": [],
   "source": [
    "#Observamos que existem colunas em tipos diferentes, como por exemplo, as colunas do tipo da data\n",
    "#que é do tipo object, mas deveria ser do tipo datetime. Além disso, observamos que existem colunas com valores nulos.\n",
    "\n",
    "#Para resolver isso vamos criar uma função para converter as colunas de data para o tipo datetime.\n",
    "\n",
    "def converter_data(data, coluna):\n",
    "    data[coluna] = pd.to_datetime(data[coluna], errors='coerce')\n",
    "    return data\n",
    "\n"
   ]
  },
  {
   "cell_type": "code",
   "execution_count": 11,
   "id": "7cb3d166",
   "metadata": {},
   "outputs": [
    {
     "name": "stdout",
     "output_type": "stream",
     "text": [
      "<class 'pandas.core.frame.DataFrame'>\n",
      "RangeIndex: 1315 entries, 0 to 1314\n",
      "Data columns (total 8 columns):\n",
      " #   Column               Non-Null Count  Dtype         \n",
      "---  ------               --------------  -----         \n",
      " 0   ID_CLIENTE           1315 non-null   int64         \n",
      " 1   DATA_CADASTRO        1315 non-null   datetime64[ns]\n",
      " 2   DDD                  1078 non-null   object        \n",
      " 3   FLAG_PF              66 non-null     object        \n",
      " 4   SEGMENTO_INDUSTRIAL  1232 non-null   object        \n",
      " 5   DOMINIO_EMAIL        1285 non-null   object        \n",
      " 6   PORTE                1274 non-null   object        \n",
      " 7   CEP_2_DIG            1315 non-null   object        \n",
      "dtypes: datetime64[ns](1), int64(1), object(6)\n",
      "memory usage: 82.3+ KB\n"
     ]
    }
   ],
   "source": [
    "#Convertendo as colunas de data para datetime\n",
    "\n",
    "data_cadastro_convertido = (\n",
    "    data_cadastro.copy()\n",
    "    .pipe(converter_data, coluna = 'DATA_CADASTRO')\n",
    ")\n",
    "\n",
    "data_cadastro_convertido.info()"
   ]
  },
  {
   "cell_type": "code",
   "execution_count": 12,
   "id": "7a4be391",
   "metadata": {},
   "outputs": [
    {
     "name": "stdout",
     "output_type": "stream",
     "text": [
      "<class 'pandas.core.frame.DataFrame'>\n",
      "RangeIndex: 1315 entries, 0 to 1314\n",
      "Data columns (total 7 columns):\n",
      " #   Column               Non-Null Count  Dtype         \n",
      "---  ------               --------------  -----         \n",
      " 0   ID_CLIENTE           1315 non-null   int64         \n",
      " 1   DATA_CADASTRO        1315 non-null   datetime64[ns]\n",
      " 2   FLAG_PF              66 non-null     object        \n",
      " 3   SEGMENTO_INDUSTRIAL  1232 non-null   object        \n",
      " 4   DOMINIO_EMAIL        1285 non-null   object        \n",
      " 5   PORTE                1274 non-null   object        \n",
      " 6   CEP_2_DIG            1315 non-null   object        \n",
      "dtypes: datetime64[ns](1), int64(1), object(5)\n",
      "memory usage: 72.0+ KB\n"
     ]
    }
   ],
   "source": [
    "#A coluna DDD é uma coluna que adiciona informação geográfica, porém temos outra coluna que também faz\n",
    "#isso que é a coluna CEP_2_DIG. Vamos remover a coluna DDD, pois a do cep não possui nulos.\n",
    "\n",
    "data_cadastro_ddd_remove = (\n",
    "    data_cadastro_convertido.copy()\n",
    "    .drop(columns = ['DDD'])\n",
    ")\n",
    "\n",
    "data_cadastro_ddd_remove.info()\n"
   ]
  },
  {
   "cell_type": "code",
   "execution_count": 13,
   "id": "763df319",
   "metadata": {},
   "outputs": [
    {
     "data": {
      "text/plain": [
       "FLAG_PF\n",
       "PJ    1249\n",
       "PF      66\n",
       "Name: count, dtype: int64"
      ]
     },
     "execution_count": 13,
     "metadata": {},
     "output_type": "execute_result"
    }
   ],
   "source": [
    "#Continuando, vamos ajustar a coluna de FLAG_PF para não possuir nulos.\n",
    "\n",
    "data_cadastro_flag_pf = (\n",
    "    data_cadastro_ddd_remove.copy()\n",
    "    .fillna(value = 'PJ')\n",
    "    .replace(to_replace = 'X', value = 'PF')\n",
    ")\n",
    "\n",
    "data_cadastro_flag_pf['FLAG_PF'].value_counts()\n"
   ]
  },
  {
   "cell_type": "markdown",
   "id": "320bc99f",
   "metadata": {},
   "source": [
    "## Analise da base de informações dos clientes"
   ]
  },
  {
   "cell_type": "code",
   "execution_count": 14,
   "id": "26e607c9",
   "metadata": {},
   "outputs": [
    {
     "data": {
      "text/html": [
       "<div>\n",
       "<style scoped>\n",
       "    .dataframe tbody tr th:only-of-type {\n",
       "        vertical-align: middle;\n",
       "    }\n",
       "\n",
       "    .dataframe tbody tr th {\n",
       "        vertical-align: top;\n",
       "    }\n",
       "\n",
       "    .dataframe thead th {\n",
       "        text-align: right;\n",
       "    }\n",
       "</style>\n",
       "<table border=\"1\" class=\"dataframe\">\n",
       "  <thead>\n",
       "    <tr style=\"text-align: right;\">\n",
       "      <th></th>\n",
       "      <th>ID_CLIENTE</th>\n",
       "      <th>SAFRA_REF</th>\n",
       "      <th>RENDA_MES_ANTERIOR</th>\n",
       "      <th>NO_FUNCIONARIOS</th>\n",
       "    </tr>\n",
       "  </thead>\n",
       "  <tbody>\n",
       "    <tr>\n",
       "      <th>0</th>\n",
       "      <td>1661240395903230676</td>\n",
       "      <td>2018-09</td>\n",
       "      <td>16913.00</td>\n",
       "      <td>NaN</td>\n",
       "    </tr>\n",
       "    <tr>\n",
       "      <th>1</th>\n",
       "      <td>8274986328479596038</td>\n",
       "      <td>2018-09</td>\n",
       "      <td>106430.00</td>\n",
       "      <td>141.00</td>\n",
       "    </tr>\n",
       "    <tr>\n",
       "      <th>2</th>\n",
       "      <td>345447888460137901</td>\n",
       "      <td>2018-09</td>\n",
       "      <td>707439.00</td>\n",
       "      <td>99.00</td>\n",
       "    </tr>\n",
       "    <tr>\n",
       "      <th>3</th>\n",
       "      <td>1003144834589372198</td>\n",
       "      <td>2018-09</td>\n",
       "      <td>239659.00</td>\n",
       "      <td>96.00</td>\n",
       "    </tr>\n",
       "    <tr>\n",
       "      <th>4</th>\n",
       "      <td>324916756972236008</td>\n",
       "      <td>2018-09</td>\n",
       "      <td>203123.00</td>\n",
       "      <td>103.00</td>\n",
       "    </tr>\n",
       "  </tbody>\n",
       "</table>\n",
       "</div>"
      ],
      "text/plain": [
       "            ID_CLIENTE SAFRA_REF  RENDA_MES_ANTERIOR  NO_FUNCIONARIOS\n",
       "0  1661240395903230676   2018-09            16913.00              NaN\n",
       "1  8274986328479596038   2018-09           106430.00           141.00\n",
       "2   345447888460137901   2018-09           707439.00            99.00\n",
       "3  1003144834589372198   2018-09           239659.00            96.00\n",
       "4   324916756972236008   2018-09           203123.00           103.00"
      ]
     },
     "execution_count": 14,
     "metadata": {},
     "output_type": "execute_result"
    }
   ],
   "source": [
    "#Visualização inicial\n",
    "data_hist.head()"
   ]
  },
  {
   "cell_type": "code",
   "execution_count": 15,
   "id": "094ab96c",
   "metadata": {},
   "outputs": [
    {
     "name": "stdout",
     "output_type": "stream",
     "text": [
      "<class 'pandas.core.frame.DataFrame'>\n",
      "RangeIndex: 24401 entries, 0 to 24400\n",
      "Data columns (total 4 columns):\n",
      " #   Column              Non-Null Count  Dtype  \n",
      "---  ------              --------------  -----  \n",
      " 0   ID_CLIENTE          24401 non-null  int64  \n",
      " 1   SAFRA_REF           24401 non-null  object \n",
      " 2   RENDA_MES_ANTERIOR  23684 non-null  float64\n",
      " 3   NO_FUNCIONARIOS     23149 non-null  float64\n",
      "dtypes: float64(2), int64(1), object(1)\n",
      "memory usage: 762.7+ KB\n"
     ]
    }
   ],
   "source": [
    "data_hist.info()"
   ]
  },
  {
   "cell_type": "code",
   "execution_count": 16,
   "id": "d93970e7",
   "metadata": {},
   "outputs": [
    {
     "name": "stderr",
     "output_type": "stream",
     "text": [
      "C:\\Users\\Arthur\\AppData\\Local\\Temp\\ipykernel_20272\\3898198020.py:9: FutureWarning: DataFrameGroupBy.apply operated on the grouping columns. This behavior is deprecated, and in a future version of pandas the grouping columns will be excluded from the operation. Either pass `include_groups=False` to exclude the groupings or explicitly select the grouping columns after groupby to silence this warning.\n",
      "  .apply(lambda g: g.ffill().bfill())\n"
     ]
    },
    {
     "data": {
      "text/plain": [
       "ID_CLIENTE             0\n",
       "SAFRA_REF              0\n",
       "RENDA_MES_ANTERIOR     2\n",
       "NO_FUNCIONARIOS       11\n",
       "dtype: int64"
      ]
     },
     "execution_count": 16,
     "metadata": {},
     "output_type": "execute_result"
    }
   ],
   "source": [
    "#Observamos novamente colunas de data em formato errado, e alguns nulos em renda_mes_anterior e no_funcionarios\n",
    "# Vamos resolver isso convertendo os tipos e com a função ffill e bfill.\n",
    "\n",
    "data_hist_convertido_e_nulos = (\n",
    "    data_hist.copy()\n",
    "    .pipe(converter_data, coluna = 'SAFRA_REF')\n",
    "    .sort_values(['ID_CLIENTE', 'SAFRA_REF'])\n",
    "    .groupby('ID_CLIENTE')\n",
    "    .apply(lambda g: g.ffill().bfill())\n",
    "    .reset_index(drop=True)\n",
    ")\n",
    "\n",
    "data_hist_convertido_e_nulos.isnull().sum()\n",
    "\n"
   ]
  },
  {
   "cell_type": "code",
   "execution_count": 17,
   "id": "137cdf7d",
   "metadata": {},
   "outputs": [
    {
     "data": {
      "text/html": [
       "<div>\n",
       "<style scoped>\n",
       "    .dataframe tbody tr th:only-of-type {\n",
       "        vertical-align: middle;\n",
       "    }\n",
       "\n",
       "    .dataframe tbody tr th {\n",
       "        vertical-align: top;\n",
       "    }\n",
       "\n",
       "    .dataframe thead th {\n",
       "        text-align: right;\n",
       "    }\n",
       "</style>\n",
       "<table border=\"1\" class=\"dataframe\">\n",
       "  <thead>\n",
       "    <tr style=\"text-align: right;\">\n",
       "      <th></th>\n",
       "      <th>ID_CLIENTE</th>\n",
       "      <th>SAFRA_REF</th>\n",
       "      <th>RENDA_MES_ANTERIOR</th>\n",
       "      <th>NO_FUNCIONARIOS</th>\n",
       "    </tr>\n",
       "  </thead>\n",
       "  <tbody>\n",
       "    <tr>\n",
       "      <th>0</th>\n",
       "      <td>8784237149961904</td>\n",
       "      <td>2018-09-01</td>\n",
       "      <td>300502.00</td>\n",
       "      <td>107.00</td>\n",
       "    </tr>\n",
       "    <tr>\n",
       "      <th>1</th>\n",
       "      <td>8784237149961904</td>\n",
       "      <td>2018-10-01</td>\n",
       "      <td>499238.00</td>\n",
       "      <td>98.00</td>\n",
       "    </tr>\n",
       "    <tr>\n",
       "      <th>2</th>\n",
       "      <td>8784237149961904</td>\n",
       "      <td>2018-11-01</td>\n",
       "      <td>256117.00</td>\n",
       "      <td>104.00</td>\n",
       "    </tr>\n",
       "    <tr>\n",
       "      <th>3</th>\n",
       "      <td>8784237149961904</td>\n",
       "      <td>2018-12-01</td>\n",
       "      <td>433897.00</td>\n",
       "      <td>105.00</td>\n",
       "    </tr>\n",
       "    <tr>\n",
       "      <th>4</th>\n",
       "      <td>8784237149961904</td>\n",
       "      <td>2019-01-01</td>\n",
       "      <td>370549.00</td>\n",
       "      <td>112.00</td>\n",
       "    </tr>\n",
       "  </tbody>\n",
       "</table>\n",
       "</div>"
      ],
      "text/plain": [
       "         ID_CLIENTE  SAFRA_REF  RENDA_MES_ANTERIOR  NO_FUNCIONARIOS\n",
       "0  8784237149961904 2018-09-01           300502.00           107.00\n",
       "1  8784237149961904 2018-10-01           499238.00            98.00\n",
       "2  8784237149961904 2018-11-01           256117.00           104.00\n",
       "3  8784237149961904 2018-12-01           433897.00           105.00\n",
       "4  8784237149961904 2019-01-01           370549.00           112.00"
      ]
     },
     "execution_count": 17,
     "metadata": {},
     "output_type": "execute_result"
    }
   ],
   "source": [
    "#Ainda possuimos alguns nulos, porem isso se trata de clientes que não possuem histórico de pagamentos.\n",
    "#Vamos resolver isso no futuro cruzando com a base de informação cadastral e tentar posteriormente\n",
    "#um fill com a média por porte e área de atuação.\n",
    "\n",
    "data_hist_convertido_e_nulos.head()"
   ]
  },
  {
   "cell_type": "code",
   "execution_count": 18,
   "id": "c89b520b",
   "metadata": {},
   "outputs": [
    {
     "data": {
      "text/html": [
       "<div>\n",
       "<style scoped>\n",
       "    .dataframe tbody tr th:only-of-type {\n",
       "        vertical-align: middle;\n",
       "    }\n",
       "\n",
       "    .dataframe tbody tr th {\n",
       "        vertical-align: top;\n",
       "    }\n",
       "\n",
       "    .dataframe thead th {\n",
       "        text-align: right;\n",
       "    }\n",
       "</style>\n",
       "<table border=\"1\" class=\"dataframe\">\n",
       "  <thead>\n",
       "    <tr style=\"text-align: right;\">\n",
       "      <th></th>\n",
       "      <th>ID_CLIENTE</th>\n",
       "      <th>SAFRA_REF</th>\n",
       "      <th>RENDA_MES_ANTERIOR</th>\n",
       "      <th>NO_FUNCIONARIOS</th>\n",
       "    </tr>\n",
       "  </thead>\n",
       "  <tbody>\n",
       "    <tr>\n",
       "      <th>count</th>\n",
       "      <td>24401.00</td>\n",
       "      <td>24401</td>\n",
       "      <td>24399.00</td>\n",
       "      <td>24390.00</td>\n",
       "    </tr>\n",
       "    <tr>\n",
       "      <th>mean</th>\n",
       "      <td>4668214159782658048.00</td>\n",
       "      <td>2020-05-05 20:33:41.228638208</td>\n",
       "      <td>288659.56</td>\n",
       "      <td>117.78</td>\n",
       "    </tr>\n",
       "    <tr>\n",
       "      <th>min</th>\n",
       "      <td>8784237149961904.00</td>\n",
       "      <td>2018-09-01 00:00:00</td>\n",
       "      <td>105.00</td>\n",
       "      <td>0.00</td>\n",
       "    </tr>\n",
       "    <tr>\n",
       "      <th>25%</th>\n",
       "      <td>2347028805684088320.00</td>\n",
       "      <td>2019-07-01 00:00:00</td>\n",
       "      <td>133874.50</td>\n",
       "      <td>106.00</td>\n",
       "    </tr>\n",
       "    <tr>\n",
       "      <th>50%</th>\n",
       "      <td>4795152981525833728.00</td>\n",
       "      <td>2020-06-01 00:00:00</td>\n",
       "      <td>241184.00</td>\n",
       "      <td>118.00</td>\n",
       "    </tr>\n",
       "    <tr>\n",
       "      <th>75%</th>\n",
       "      <td>7061868716439557120.00</td>\n",
       "      <td>2021-03-01 00:00:00</td>\n",
       "      <td>392281.00</td>\n",
       "      <td>131.00</td>\n",
       "    </tr>\n",
       "    <tr>\n",
       "      <th>max</th>\n",
       "      <td>9206030810342980608.00</td>\n",
       "      <td>2021-12-01 00:00:00</td>\n",
       "      <td>1682759.00</td>\n",
       "      <td>198.00</td>\n",
       "    </tr>\n",
       "    <tr>\n",
       "      <th>std</th>\n",
       "      <td>2669294096683301376.00</td>\n",
       "      <td>NaN</td>\n",
       "      <td>211383.23</td>\n",
       "      <td>21.44</td>\n",
       "    </tr>\n",
       "  </tbody>\n",
       "</table>\n",
       "</div>"
      ],
      "text/plain": [
       "                  ID_CLIENTE                      SAFRA_REF  \\\n",
       "count               24401.00                          24401   \n",
       "mean  4668214159782658048.00  2020-05-05 20:33:41.228638208   \n",
       "min      8784237149961904.00            2018-09-01 00:00:00   \n",
       "25%   2347028805684088320.00            2019-07-01 00:00:00   \n",
       "50%   4795152981525833728.00            2020-06-01 00:00:00   \n",
       "75%   7061868716439557120.00            2021-03-01 00:00:00   \n",
       "max   9206030810342980608.00            2021-12-01 00:00:00   \n",
       "std   2669294096683301376.00                            NaN   \n",
       "\n",
       "       RENDA_MES_ANTERIOR  NO_FUNCIONARIOS  \n",
       "count            24399.00         24390.00  \n",
       "mean            288659.56           117.78  \n",
       "min                105.00             0.00  \n",
       "25%             133874.50           106.00  \n",
       "50%             241184.00           118.00  \n",
       "75%             392281.00           131.00  \n",
       "max            1682759.00           198.00  \n",
       "std             211383.23            21.44  "
      ]
     },
     "execution_count": 18,
     "metadata": {},
     "output_type": "execute_result"
    }
   ],
   "source": [
    "data_hist_convertido_e_nulos.describe()"
   ]
  },
  {
   "cell_type": "markdown",
   "id": "8d469840",
   "metadata": {},
   "source": [
    "## Análise da base de pagamentos"
   ]
  },
  {
   "cell_type": "code",
   "execution_count": 19,
   "id": "78371752",
   "metadata": {},
   "outputs": [
    {
     "data": {
      "text/html": [
       "<div>\n",
       "<style scoped>\n",
       "    .dataframe tbody tr th:only-of-type {\n",
       "        vertical-align: middle;\n",
       "    }\n",
       "\n",
       "    .dataframe tbody tr th {\n",
       "        vertical-align: top;\n",
       "    }\n",
       "\n",
       "    .dataframe thead th {\n",
       "        text-align: right;\n",
       "    }\n",
       "</style>\n",
       "<table border=\"1\" class=\"dataframe\">\n",
       "  <thead>\n",
       "    <tr style=\"text-align: right;\">\n",
       "      <th></th>\n",
       "      <th>ID_CLIENTE</th>\n",
       "      <th>SAFRA_REF</th>\n",
       "      <th>DATA_EMISSAO_DOCUMENTO</th>\n",
       "      <th>DATA_PAGAMENTO</th>\n",
       "      <th>DATA_VENCIMENTO</th>\n",
       "      <th>VALOR_A_PAGAR</th>\n",
       "      <th>TAXA</th>\n",
       "    </tr>\n",
       "  </thead>\n",
       "  <tbody>\n",
       "    <tr>\n",
       "      <th>0</th>\n",
       "      <td>1661240395903230676</td>\n",
       "      <td>2018-08</td>\n",
       "      <td>2018-08-17</td>\n",
       "      <td>2018-09-06</td>\n",
       "      <td>2018-09-06</td>\n",
       "      <td>35516.41</td>\n",
       "      <td>6.99</td>\n",
       "    </tr>\n",
       "    <tr>\n",
       "      <th>1</th>\n",
       "      <td>1661240395903230676</td>\n",
       "      <td>2018-08</td>\n",
       "      <td>2018-08-19</td>\n",
       "      <td>2018-09-11</td>\n",
       "      <td>2018-09-10</td>\n",
       "      <td>17758.21</td>\n",
       "      <td>6.99</td>\n",
       "    </tr>\n",
       "    <tr>\n",
       "      <th>2</th>\n",
       "      <td>1661240395903230676</td>\n",
       "      <td>2018-08</td>\n",
       "      <td>2018-08-26</td>\n",
       "      <td>2018-09-18</td>\n",
       "      <td>2018-09-17</td>\n",
       "      <td>17431.96</td>\n",
       "      <td>6.99</td>\n",
       "    </tr>\n",
       "    <tr>\n",
       "      <th>3</th>\n",
       "      <td>1661240395903230676</td>\n",
       "      <td>2018-08</td>\n",
       "      <td>2018-08-30</td>\n",
       "      <td>2018-10-11</td>\n",
       "      <td>2018-10-05</td>\n",
       "      <td>1341.00</td>\n",
       "      <td>6.99</td>\n",
       "    </tr>\n",
       "    <tr>\n",
       "      <th>4</th>\n",
       "      <td>1661240395903230676</td>\n",
       "      <td>2018-08</td>\n",
       "      <td>2018-08-31</td>\n",
       "      <td>2018-09-20</td>\n",
       "      <td>2018-09-20</td>\n",
       "      <td>21309.85</td>\n",
       "      <td>6.99</td>\n",
       "    </tr>\n",
       "  </tbody>\n",
       "</table>\n",
       "</div>"
      ],
      "text/plain": [
       "            ID_CLIENTE SAFRA_REF DATA_EMISSAO_DOCUMENTO DATA_PAGAMENTO  \\\n",
       "0  1661240395903230676   2018-08             2018-08-17     2018-09-06   \n",
       "1  1661240395903230676   2018-08             2018-08-19     2018-09-11   \n",
       "2  1661240395903230676   2018-08             2018-08-26     2018-09-18   \n",
       "3  1661240395903230676   2018-08             2018-08-30     2018-10-11   \n",
       "4  1661240395903230676   2018-08             2018-08-31     2018-09-20   \n",
       "\n",
       "  DATA_VENCIMENTO  VALOR_A_PAGAR  TAXA  \n",
       "0      2018-09-06       35516.41  6.99  \n",
       "1      2018-09-10       17758.21  6.99  \n",
       "2      2018-09-17       17431.96  6.99  \n",
       "3      2018-10-05        1341.00  6.99  \n",
       "4      2018-09-20       21309.85  6.99  "
      ]
     },
     "execution_count": 19,
     "metadata": {},
     "output_type": "execute_result"
    }
   ],
   "source": [
    "data_pagamentos.head()"
   ]
  },
  {
   "cell_type": "code",
   "execution_count": 20,
   "id": "9390c973",
   "metadata": {},
   "outputs": [
    {
     "name": "stdout",
     "output_type": "stream",
     "text": [
      "<class 'pandas.core.frame.DataFrame'>\n",
      "RangeIndex: 77414 entries, 0 to 77413\n",
      "Data columns (total 7 columns):\n",
      " #   Column                  Non-Null Count  Dtype  \n",
      "---  ------                  --------------  -----  \n",
      " 0   ID_CLIENTE              77414 non-null  int64  \n",
      " 1   SAFRA_REF               77414 non-null  object \n",
      " 2   DATA_EMISSAO_DOCUMENTO  77414 non-null  object \n",
      " 3   DATA_PAGAMENTO          77414 non-null  object \n",
      " 4   DATA_VENCIMENTO         77414 non-null  object \n",
      " 5   VALOR_A_PAGAR           76244 non-null  float64\n",
      " 6   TAXA                    77414 non-null  float64\n",
      "dtypes: float64(2), int64(1), object(4)\n",
      "memory usage: 4.1+ MB\n"
     ]
    }
   ],
   "source": [
    "data_pagamentos.info()"
   ]
  },
  {
   "cell_type": "code",
   "execution_count": 21,
   "id": "455420ac",
   "metadata": {},
   "outputs": [
    {
     "data": {
      "text/plain": [
       "ID_CLIENTE                         int64\n",
       "SAFRA_REF                 datetime64[ns]\n",
       "DATA_EMISSAO_DOCUMENTO    datetime64[ns]\n",
       "DATA_PAGAMENTO            datetime64[ns]\n",
       "DATA_VENCIMENTO           datetime64[ns]\n",
       "VALOR_A_PAGAR                    float64\n",
       "TAXA                             float64\n",
       "dtype: object"
      ]
     },
     "execution_count": 21,
     "metadata": {},
     "output_type": "execute_result"
    }
   ],
   "source": [
    "#Observamos algumas colunas de datas em formato errado, e também algumas colunas com valores nulos.\n",
    "data_pagamentos_convertido = (\n",
    "    data_pagamentos.copy()\n",
    "    .pipe(converter_data, coluna = 'SAFRA_REF')\n",
    "    .pipe(converter_data, coluna = 'DATA_EMISSAO_DOCUMENTO')\n",
    "    .pipe(converter_data, coluna = 'DATA_PAGAMENTO')\n",
    "    .pipe(converter_data, coluna = 'DATA_VENCIMENTO')\n",
    ")\n",
    "\n",
    "data_pagamentos_convertido.dtypes\n"
   ]
  },
  {
   "cell_type": "code",
   "execution_count": 22,
   "id": "bfc1706a",
   "metadata": {},
   "outputs": [
    {
     "data": {
      "text/plain": [
       "(77414, 7)"
      ]
     },
     "execution_count": 22,
     "metadata": {},
     "output_type": "execute_result"
    }
   ],
   "source": [
    "data_pagamentos_convertido.shape"
   ]
  },
  {
   "cell_type": "code",
   "execution_count": 23,
   "id": "33a8b801",
   "metadata": {},
   "outputs": [
    {
     "data": {
      "text/plain": [
       "(77367, 7)"
      ]
     },
     "execution_count": 23,
     "metadata": {},
     "output_type": "execute_result"
    }
   ],
   "source": [
    "#Vamos remover alguns dados que não são concistentes temporalmente\n",
    "\n",
    "def remover_datas_invalidas(df):\n",
    "    return df[\n",
    "        (df['DATA_PAGAMENTO'] >= df['DATA_EMISSAO_DOCUMENTO']) &\n",
    "        (df['DATA_VENCIMENTO'] >= df['DATA_EMISSAO_DOCUMENTO'])\n",
    "    ]\n",
    "\n",
    "\n",
    "\n",
    "data_pagamentos_convertido = (\n",
    "    data_pagamentos_convertido\n",
    "    .pipe(remover_datas_invalidas)\n",
    "\n",
    ")\n",
    "\n",
    "data_pagamentos_convertido.shape\n"
   ]
  },
  {
   "cell_type": "code",
   "execution_count": 24,
   "id": "0672944f",
   "metadata": {},
   "outputs": [
    {
     "data": {
      "text/html": [
       "<div>\n",
       "<style scoped>\n",
       "    .dataframe tbody tr th:only-of-type {\n",
       "        vertical-align: middle;\n",
       "    }\n",
       "\n",
       "    .dataframe tbody tr th {\n",
       "        vertical-align: top;\n",
       "    }\n",
       "\n",
       "    .dataframe thead th {\n",
       "        text-align: right;\n",
       "    }\n",
       "</style>\n",
       "<table border=\"1\" class=\"dataframe\">\n",
       "  <thead>\n",
       "    <tr style=\"text-align: right;\">\n",
       "      <th></th>\n",
       "      <th>ID_CLIENTE</th>\n",
       "      <th>SAFRA_REF</th>\n",
       "      <th>DATA_EMISSAO_DOCUMENTO</th>\n",
       "      <th>DATA_PAGAMENTO</th>\n",
       "      <th>DATA_VENCIMENTO</th>\n",
       "      <th>VALOR_A_PAGAR</th>\n",
       "      <th>TAXA</th>\n",
       "      <th>DIAS_ATE_PAGAMENTO</th>\n",
       "      <th>INADIMPLENTE</th>\n",
       "      <th>DIAS_DE_ATRASO</th>\n",
       "      <th>PRAZO_PAGAMENTO_DIAS</th>\n",
       "    </tr>\n",
       "  </thead>\n",
       "  <tbody>\n",
       "    <tr>\n",
       "      <th>0</th>\n",
       "      <td>1661240395903230676</td>\n",
       "      <td>2018-08-01</td>\n",
       "      <td>2018-08-17</td>\n",
       "      <td>2018-09-06</td>\n",
       "      <td>2018-09-06</td>\n",
       "      <td>35516.41</td>\n",
       "      <td>6.99</td>\n",
       "      <td>20</td>\n",
       "      <td>0</td>\n",
       "      <td>0</td>\n",
       "      <td>20</td>\n",
       "    </tr>\n",
       "    <tr>\n",
       "      <th>1</th>\n",
       "      <td>1661240395903230676</td>\n",
       "      <td>2018-08-01</td>\n",
       "      <td>2018-08-19</td>\n",
       "      <td>2018-09-11</td>\n",
       "      <td>2018-09-10</td>\n",
       "      <td>17758.21</td>\n",
       "      <td>6.99</td>\n",
       "      <td>23</td>\n",
       "      <td>0</td>\n",
       "      <td>1</td>\n",
       "      <td>22</td>\n",
       "    </tr>\n",
       "    <tr>\n",
       "      <th>2</th>\n",
       "      <td>1661240395903230676</td>\n",
       "      <td>2018-08-01</td>\n",
       "      <td>2018-08-26</td>\n",
       "      <td>2018-09-18</td>\n",
       "      <td>2018-09-17</td>\n",
       "      <td>17431.96</td>\n",
       "      <td>6.99</td>\n",
       "      <td>23</td>\n",
       "      <td>0</td>\n",
       "      <td>1</td>\n",
       "      <td>22</td>\n",
       "    </tr>\n",
       "    <tr>\n",
       "      <th>3</th>\n",
       "      <td>1661240395903230676</td>\n",
       "      <td>2018-08-01</td>\n",
       "      <td>2018-08-30</td>\n",
       "      <td>2018-10-11</td>\n",
       "      <td>2018-10-05</td>\n",
       "      <td>1341.00</td>\n",
       "      <td>6.99</td>\n",
       "      <td>42</td>\n",
       "      <td>1</td>\n",
       "      <td>6</td>\n",
       "      <td>36</td>\n",
       "    </tr>\n",
       "    <tr>\n",
       "      <th>4</th>\n",
       "      <td>1661240395903230676</td>\n",
       "      <td>2018-08-01</td>\n",
       "      <td>2018-08-31</td>\n",
       "      <td>2018-09-20</td>\n",
       "      <td>2018-09-20</td>\n",
       "      <td>21309.85</td>\n",
       "      <td>6.99</td>\n",
       "      <td>20</td>\n",
       "      <td>0</td>\n",
       "      <td>0</td>\n",
       "      <td>20</td>\n",
       "    </tr>\n",
       "  </tbody>\n",
       "</table>\n",
       "</div>"
      ],
      "text/plain": [
       "            ID_CLIENTE  SAFRA_REF DATA_EMISSAO_DOCUMENTO DATA_PAGAMENTO  \\\n",
       "0  1661240395903230676 2018-08-01             2018-08-17     2018-09-06   \n",
       "1  1661240395903230676 2018-08-01             2018-08-19     2018-09-11   \n",
       "2  1661240395903230676 2018-08-01             2018-08-26     2018-09-18   \n",
       "3  1661240395903230676 2018-08-01             2018-08-30     2018-10-11   \n",
       "4  1661240395903230676 2018-08-01             2018-08-31     2018-09-20   \n",
       "\n",
       "  DATA_VENCIMENTO  VALOR_A_PAGAR  TAXA  DIAS_ATE_PAGAMENTO  INADIMPLENTE  \\\n",
       "0      2018-09-06       35516.41  6.99                  20             0   \n",
       "1      2018-09-10       17758.21  6.99                  23             0   \n",
       "2      2018-09-17       17431.96  6.99                  23             0   \n",
       "3      2018-10-05        1341.00  6.99                  42             1   \n",
       "4      2018-09-20       21309.85  6.99                  20             0   \n",
       "\n",
       "   DIAS_DE_ATRASO  PRAZO_PAGAMENTO_DIAS  \n",
       "0               0                    20  \n",
       "1               1                    22  \n",
       "2               1                    22  \n",
       "3               6                    36  \n",
       "4               0                    20  "
      ]
     },
     "execution_count": 24,
     "metadata": {},
     "output_type": "execute_result"
    }
   ],
   "source": [
    "#Vamos criar algumas colunas também que poderam ser úteis para o modelo.\n",
    "\n",
    "data_pagamentos_new_columns = (\n",
    "    data_pagamentos_convertido.copy()\n",
    "    .assign(\n",
    "        DIAS_ATE_PAGAMENTO = (\n",
    "            lambda d: (d[\"DATA_PAGAMENTO\"] - d[\"DATA_EMISSAO_DOCUMENTO\"]).dt.days\n",
    "        )\n",
    "    )\n",
    "    .assign(\n",
    "        INADIMPLENTE = (\n",
    "            lambda d: np.where(\n",
    "                (d[\"DATA_PAGAMENTO\"] - d[\"DATA_VENCIMENTO\"]).dt.days >= 5, 1, 0\n",
    "            )\n",
    "        )\n",
    "    )\n",
    "    .assign(\n",
    "        DIAS_DE_ATRASO = (\n",
    "            lambda d: (d[\"DATA_PAGAMENTO\"] - d[\"DATA_VENCIMENTO\"]).dt.days\n",
    "        )\n",
    "    )\n",
    "    .assign(\n",
    "        PRAZO_PAGAMENTO_DIAS = (\n",
    "            lambda d: (d[\"DATA_VENCIMENTO\"] - d[\"DATA_EMISSAO_DOCUMENTO\"]).dt.days\n",
    "        )\n",
    "    )\n",
    ")\n",
    "\n",
    "data_pagamentos_new_columns.head()"
   ]
  },
  {
   "cell_type": "code",
   "execution_count": 25,
   "id": "a38ee393",
   "metadata": {},
   "outputs": [
    {
     "data": {
      "text/plain": [
       "count   77367.00\n",
       "mean        6.79\n",
       "std         1.80\n",
       "min         4.99\n",
       "25%         5.99\n",
       "50%         5.99\n",
       "75%         6.99\n",
       "max        11.99\n",
       "Name: TAXA, dtype: float64"
      ]
     },
     "execution_count": 25,
     "metadata": {},
     "output_type": "execute_result"
    }
   ],
   "source": [
    "#Para preencher os valores nulos em VALOR_A_PAGAR e em TAXA, primeiro precisamos entender o que é cada uma delas.\n",
    "\n",
    "data_pagamentos_new_columns['TAXA'].describe()\n"
   ]
  },
  {
   "cell_type": "code",
   "execution_count": 26,
   "id": "420658a9",
   "metadata": {},
   "outputs": [
    {
     "data": {
      "text/plain": [
       "<Axes: >"
      ]
     },
     "execution_count": 26,
     "metadata": {},
     "output_type": "execute_result"
    },
    {
     "data": {
      "image/png": "[encoded data removed]",
      "text/plain": [
       "<Figure size 640x480 with 1 Axes>"
      ]
     },
     "metadata": {},
     "output_type": "display_data"
    }
   ],
   "source": [
    "data_pagamentos_new_columns['TAXA'].hist()"
   ]
  },
  {
   "cell_type": "code",
   "execution_count": 27,
   "id": "754e25b6",
   "metadata": {},
   "outputs": [],
   "source": [
    "# A estratégia para preencher os valores nulos em 'taxa' é utilizar a média\n",
    "# de taxas para cada 'ID_CLIENTE', e caso restar nulos preenchemos com a média geral.\n",
    "\n",
    "def preencher_taxa(df):\n",
    "    media_taxa_por_cliente = df.groupby('ID_CLIENTE')['TAXA'].transform('mean')\n",
    "    taxa_preenchida = df['TAXA'].fillna(media_taxa_por_cliente)\n",
    "\n",
    "    # Preenche com a média geral se ainda restarem nulos\n",
    "    media_geral = taxa_preenchida.mean()\n",
    "    taxa_final = taxa_preenchida.fillna(media_geral)\n",
    "\n",
    "    df['TAXA'] = taxa_final\n",
    "    return df\n",
    "\n",
    "\n",
    "data_pagamentos_fill_taxa = (\n",
    "    data_pagamentos_new_columns.copy()\n",
    "    .pipe(preencher_taxa)\n",
    "    \n",
    ")"
   ]
  },
  {
   "cell_type": "code",
   "execution_count": 28,
   "id": "c11e3efc",
   "metadata": {},
   "outputs": [
    {
     "name": "stdout",
     "output_type": "stream",
     "text": [
      "\n",
      "Informações sobre valores nulos após o tratamento:\n",
      "ID_CLIENTE                   0\n",
      "SAFRA_REF                    0\n",
      "DATA_EMISSAO_DOCUMENTO       0\n",
      "DATA_PAGAMENTO               0\n",
      "DATA_VENCIMENTO              0\n",
      "VALOR_A_PAGAR             1170\n",
      "TAXA                         0\n",
      "DIAS_ATE_PAGAMENTO           0\n",
      "INADIMPLENTE                 0\n",
      "DIAS_DE_ATRASO               0\n",
      "PRAZO_PAGAMENTO_DIAS         0\n",
      "dtype: int64\n"
     ]
    },
    {
     "data": {
      "text/plain": [
       "<Axes: >"
      ]
     },
     "execution_count": 28,
     "metadata": {},
     "output_type": "execute_result"
    },
    {
     "data": {
      "image/png": "[encoded data removed]",
      "text/plain": [
       "<Figure size 640x480 with 1 Axes>"
      ]
     },
     "metadata": {},
     "output_type": "display_data"
    }
   ],
   "source": [
    "#Verificando o preenchimento da taxa\n",
    "print(\"\\nInformações sobre valores nulos após o tratamento:\")\n",
    "print(data_pagamentos_fill_taxa.isnull().sum())\n",
    "\n",
    "data_pagamentos_fill_taxa['TAXA'].describe()\n",
    "data_pagamentos_fill_taxa['TAXA'].hist()"
   ]
  },
  {
   "cell_type": "code",
   "execution_count": 29,
   "id": "c707ac4c",
   "metadata": {},
   "outputs": [
    {
     "data": {
      "text/plain": [
       "count     76197.00\n",
       "mean      46571.85\n",
       "std       46280.31\n",
       "min           0.10\n",
       "25%       18769.06\n",
       "50%       34762.78\n",
       "75%       60933.95\n",
       "max     4400000.00\n",
       "Name: VALOR_A_PAGAR, dtype: float64"
      ]
     },
     "execution_count": 29,
     "metadata": {},
     "output_type": "execute_result"
    }
   ],
   "source": [
    "#Para o preenchimento do valor a pagar, precisamos primeiro também dar uma entendida na variável\n",
    "data_pagamentos_fill_taxa['VALOR_A_PAGAR'].describe()"
   ]
  },
  {
   "cell_type": "code",
   "execution_count": 30,
   "id": "b9e0d052",
   "metadata": {},
   "outputs": [
    {
     "data": {
      "image/png": "[encoded data removed]",
      "text/plain": [
       "<Figure size 1000x600 with 1 Axes>"
      ]
     },
     "metadata": {},
     "output_type": "display_data"
    }
   ],
   "source": [
    "#Vemos um desvio muito grande, bem como valores máximos e minimos oscilando bastante\n",
    "\n",
    "plt.figure(figsize=(10, 6))\n",
    "sns.histplot(data_pagamentos_fill_taxa['VALOR_A_PAGAR'], bins=50, kde=True)\n",
    "plt.title('Distribuição geral de VALOR_A_PAGAR')\n",
    "plt.xlabel('VALOR_A_PAGAR')\n",
    "plt.ylabel('Frequência')\n",
    "plt.xlim(0, data_pagamentos_fill_taxa['VALOR_A_PAGAR'].quantile(0.95))  # Limita os 5% maiores\n",
    "plt.show()"
   ]
  },
  {
   "cell_type": "code",
   "execution_count": 31,
   "id": "53f44f22",
   "metadata": {},
   "outputs": [],
   "source": [
    "#A distribuição é assimétrica à direita\n",
    "#Isso significa que a maioria dos valores está concentrada nos menores valores (ex: até 30.000), \n",
    "#mas existem valores altos que esticam a cauda da distribuição\n",
    "#ou seja, há outliers ou valores extremos grandes."
   ]
  },
  {
   "cell_type": "code",
   "execution_count": 32,
   "id": "f4a6fe02",
   "metadata": {},
   "outputs": [
    {
     "data": {
      "text/plain": [
       "count   1247.00\n",
       "mean      62.04\n",
       "std       94.39\n",
       "min        1.00\n",
       "25%        5.00\n",
       "50%       28.00\n",
       "75%       90.00\n",
       "max     1151.00\n",
       "Name: count, dtype: float64"
      ]
     },
     "execution_count": 32,
     "metadata": {},
     "output_type": "execute_result"
    }
   ],
   "source": [
    "data_pagamentos_fill_taxa['ID_CLIENTE'].value_counts().describe()\n"
   ]
  },
  {
   "cell_type": "code",
   "execution_count": 33,
   "id": "be429790",
   "metadata": {},
   "outputs": [],
   "source": [
    "#Temos alguns clientes que comprar muito"
   ]
  },
  {
   "cell_type": "code",
   "execution_count": 34,
   "id": "d21f7811",
   "metadata": {},
   "outputs": [
    {
     "data": {
      "text/plain": [
       "ID_CLIENTE\n",
       "6964108750473070287    1151\n",
       "5761480994209806499    1055\n",
       "4008627434689715639     877\n",
       "8173830874846355280     675\n",
       "6916556752218696485     638\n",
       "7930925883736021864     585\n",
       "459290606780222306      557\n",
       "4045739494965095560     539\n",
       "7325545718770538459     509\n",
       "3355881107559250653     505\n",
       "Name: count, dtype: int64"
      ]
     },
     "execution_count": 34,
     "metadata": {},
     "output_type": "execute_result"
    }
   ],
   "source": [
    "data_pagamentos_fill_taxa['ID_CLIENTE'].value_counts().head(10)\n",
    "#Top 10 compradores\n"
   ]
  },
  {
   "cell_type": "code",
   "execution_count": 35,
   "id": "9b12b2ff",
   "metadata": {},
   "outputs": [],
   "source": [
    "#Para preencher os valores a pagar, vamos fazer a seguinte estratégia\n",
    "#preencher primeiro com a média dos antigos pagamentos por clientes\n",
    "#caso não tenha pagamentos, vamos preencher com a mediana geral\n",
    "\n",
    "def preencher_valor_a_pagar(df):\n",
    "    #média por cliente\n",
    "    media_por_cliente = df.groupby('ID_CLIENTE')['VALOR_A_PAGAR'].transform('mean')\n",
    "\n",
    "    #aplicar a média do cliente onde for possível\n",
    "    df['VALOR_A_PAGAR'] = df['VALOR_A_PAGAR'].fillna(media_por_cliente)\n",
    "\n",
    "    #preencher o restante com a mediana geral (robusta a outliers)\n",
    "    mediana_geral = df['VALOR_A_PAGAR'].median()\n",
    "    df['VALOR_A_PAGAR'] = df['VALOR_A_PAGAR'].fillna(mediana_geral)\n",
    "\n",
    "    return df\n",
    "\n",
    "data_pagamentos_fill_valor = (\n",
    "    data_pagamentos_fill_taxa.copy()\n",
    "    .pipe(preencher_valor_a_pagar)\n",
    ")\n"
   ]
  },
  {
   "cell_type": "code",
   "execution_count": 36,
   "id": "32df6e6a",
   "metadata": {},
   "outputs": [
    {
     "name": "stdout",
     "output_type": "stream",
     "text": [
      "\n",
      "Informações sobre valores nulos após o tratamento:\n",
      "ID_CLIENTE                0\n",
      "SAFRA_REF                 0\n",
      "DATA_EMISSAO_DOCUMENTO    0\n",
      "DATA_PAGAMENTO            0\n",
      "DATA_VENCIMENTO           0\n",
      "VALOR_A_PAGAR             0\n",
      "TAXA                      0\n",
      "DIAS_ATE_PAGAMENTO        0\n",
      "INADIMPLENTE              0\n",
      "DIAS_DE_ATRASO            0\n",
      "PRAZO_PAGAMENTO_DIAS      0\n",
      "dtype: int64\n"
     ]
    },
    {
     "data": {
      "text/plain": [
       "count     77367.00\n",
       "mean      46566.04\n",
       "std       46065.97\n",
       "min           0.10\n",
       "25%       18860.18\n",
       "50%       34825.88\n",
       "75%       60866.79\n",
       "max     4400000.00\n",
       "Name: VALOR_A_PAGAR, dtype: float64"
      ]
     },
     "execution_count": 36,
     "metadata": {},
     "output_type": "execute_result"
    }
   ],
   "source": [
    "#Verificando o preenchimento do valor\n",
    "print(\"\\nInformações sobre valores nulos após o tratamento:\")\n",
    "print(data_pagamentos_fill_valor.isnull().sum())\n",
    "\n",
    "data_pagamentos_fill_valor['VALOR_A_PAGAR'].describe()\n"
   ]
  },
  {
   "cell_type": "code",
   "execution_count": 37,
   "id": "e96d002a",
   "metadata": {},
   "outputs": [
    {
     "data": {
      "text/plain": [
       "INADIMPLENTE\n",
       "0    71957\n",
       "1     5410\n",
       "Name: count, dtype: int64"
      ]
     },
     "execution_count": 37,
     "metadata": {},
     "output_type": "execute_result"
    }
   ],
   "source": [
    "data_pagamentos_fill_valor['INADIMPLENTE'].value_counts()\n",
    "#Confirmando também um desbalanceamento que será trabalho mais a frente"
   ]
  },
  {
   "cell_type": "markdown",
   "id": "6005e82a",
   "metadata": {},
   "source": [
    "## Analise base objetivo\n",
    "### Padronizando variáveis somenete"
   ]
  },
  {
   "cell_type": "code",
   "execution_count": 38,
   "id": "2112085c",
   "metadata": {},
   "outputs": [
    {
     "data": {
      "text/html": [
       "<div>\n",
       "<style scoped>\n",
       "    .dataframe tbody tr th:only-of-type {\n",
       "        vertical-align: middle;\n",
       "    }\n",
       "\n",
       "    .dataframe tbody tr th {\n",
       "        vertical-align: top;\n",
       "    }\n",
       "\n",
       "    .dataframe thead th {\n",
       "        text-align: right;\n",
       "    }\n",
       "</style>\n",
       "<table border=\"1\" class=\"dataframe\">\n",
       "  <thead>\n",
       "    <tr style=\"text-align: right;\">\n",
       "      <th></th>\n",
       "      <th>ID_CLIENTE</th>\n",
       "      <th>SAFRA_REF</th>\n",
       "      <th>DATA_EMISSAO_DOCUMENTO</th>\n",
       "      <th>DATA_VENCIMENTO</th>\n",
       "      <th>VALOR_A_PAGAR</th>\n",
       "      <th>TAXA</th>\n",
       "    </tr>\n",
       "  </thead>\n",
       "  <tbody>\n",
       "    <tr>\n",
       "      <th>0</th>\n",
       "      <td>5058298901476893676</td>\n",
       "      <td>2021-07</td>\n",
       "      <td>2021-07-14</td>\n",
       "      <td>2021-08-04</td>\n",
       "      <td>11204.75</td>\n",
       "      <td>4.99</td>\n",
       "    </tr>\n",
       "    <tr>\n",
       "      <th>1</th>\n",
       "      <td>274692171162531764</td>\n",
       "      <td>2021-07</td>\n",
       "      <td>2021-07-08</td>\n",
       "      <td>2021-08-23</td>\n",
       "      <td>60718.50</td>\n",
       "      <td>5.99</td>\n",
       "    </tr>\n",
       "    <tr>\n",
       "      <th>2</th>\n",
       "      <td>274692171162531764</td>\n",
       "      <td>2021-07</td>\n",
       "      <td>2021-07-11</td>\n",
       "      <td>2021-08-25</td>\n",
       "      <td>60718.50</td>\n",
       "      <td>5.99</td>\n",
       "    </tr>\n",
       "    <tr>\n",
       "      <th>3</th>\n",
       "      <td>274692171162531764</td>\n",
       "      <td>2021-07</td>\n",
       "      <td>2021-07-16</td>\n",
       "      <td>2021-08-30</td>\n",
       "      <td>62250.00</td>\n",
       "      <td>5.99</td>\n",
       "    </tr>\n",
       "    <tr>\n",
       "      <th>4</th>\n",
       "      <td>465309249432033993</td>\n",
       "      <td>2021-07</td>\n",
       "      <td>2021-07-05</td>\n",
       "      <td>2021-07-30</td>\n",
       "      <td>26593.95</td>\n",
       "      <td>6.99</td>\n",
       "    </tr>\n",
       "  </tbody>\n",
       "</table>\n",
       "</div>"
      ],
      "text/plain": [
       "            ID_CLIENTE SAFRA_REF DATA_EMISSAO_DOCUMENTO DATA_VENCIMENTO  \\\n",
       "0  5058298901476893676   2021-07             2021-07-14      2021-08-04   \n",
       "1   274692171162531764   2021-07             2021-07-08      2021-08-23   \n",
       "2   274692171162531764   2021-07             2021-07-11      2021-08-25   \n",
       "3   274692171162531764   2021-07             2021-07-16      2021-08-30   \n",
       "4   465309249432033993   2021-07             2021-07-05      2021-07-30   \n",
       "\n",
       "   VALOR_A_PAGAR  TAXA  \n",
       "0       11204.75  4.99  \n",
       "1       60718.50  5.99  \n",
       "2       60718.50  5.99  \n",
       "3       62250.00  5.99  \n",
       "4       26593.95  6.99  "
      ]
     },
     "execution_count": 38,
     "metadata": {},
     "output_type": "execute_result"
    }
   ],
   "source": [
    "data_objetivo.head()"
   ]
  },
  {
   "cell_type": "code",
   "execution_count": 39,
   "id": "d11019ad",
   "metadata": {},
   "outputs": [
    {
     "name": "stdout",
     "output_type": "stream",
     "text": [
      "<class 'pandas.core.frame.DataFrame'>\n",
      "RangeIndex: 12275 entries, 0 to 12274\n",
      "Data columns (total 6 columns):\n",
      " #   Column                  Non-Null Count  Dtype         \n",
      "---  ------                  --------------  -----         \n",
      " 0   ID_CLIENTE              12275 non-null  int64         \n",
      " 1   SAFRA_REF               12275 non-null  datetime64[ns]\n",
      " 2   DATA_EMISSAO_DOCUMENTO  12275 non-null  datetime64[ns]\n",
      " 3   DATA_VENCIMENTO         12275 non-null  datetime64[ns]\n",
      " 4   VALOR_A_PAGAR           12144 non-null  float64       \n",
      " 5   TAXA                    12275 non-null  float64       \n",
      "dtypes: datetime64[ns](3), float64(2), int64(1)\n",
      "memory usage: 575.5 KB\n"
     ]
    }
   ],
   "source": [
    "\n",
    "\n",
    "data_objetivo_convertido = (\n",
    "    data_objetivo.copy()\n",
    "    .pipe(converter_data, coluna = 'SAFRA_REF')\n",
    "    .pipe(converter_data, coluna = 'DATA_EMISSAO_DOCUMENTO')\n",
    "    .pipe(converter_data, coluna = 'DATA_VENCIMENTO')\n",
    "\n",
    ")\n",
    "data_objetivo_convertido.info()"
   ]
  },
  {
   "cell_type": "markdown",
   "id": "fef5ef29",
   "metadata": {},
   "source": [
    "# Salvando bases intermediarias"
   ]
  },
  {
   "cell_type": "code",
   "execution_count": 40,
   "id": "e961a30a",
   "metadata": {},
   "outputs": [
    {
     "name": "stdout",
     "output_type": "stream",
     "text": [
      "\n",
      "--- Tipos de dados ---\n",
      "Original:\n",
      "ID_CLIENTE                  int64\n",
      "SAFRA_REF                  object\n",
      "DATA_EMISSAO_DOCUMENTO     object\n",
      "DATA_PAGAMENTO             object\n",
      "DATA_VENCIMENTO            object\n",
      "VALOR_A_PAGAR             float64\n",
      "TAXA                      float64\n",
      "dtype: object\n",
      "\n",
      "Lido do Parquet:\n",
      "ID_CLIENTE                         int64\n",
      "SAFRA_REF                 datetime64[ns]\n",
      "DATA_EMISSAO_DOCUMENTO    datetime64[ns]\n",
      "DATA_PAGAMENTO            datetime64[ns]\n",
      "DATA_VENCIMENTO           datetime64[ns]\n",
      "VALOR_A_PAGAR                    float64\n",
      "TAXA                             float64\n",
      "DIAS_ATE_PAGAMENTO                 int64\n",
      "INADIMPLENTE                       int64\n",
      "DIAS_DE_ATRASO                     int64\n",
      "PRAZO_PAGAMENTO_DIAS               int64\n",
      "dtype: object\n"
     ]
    }
   ],
   "source": [
    "#Salvando em Parquet \n",
    "\n",
    "data_objetivo_convertido.to_parquet('../data/intermediate/data_objetivo.parquet', index=False, engine='fastparquet')\n",
    "data_pagamentos_fill_valor.to_parquet('../data/intermediate/data_pagamentos.parquet', index=False, engine='fastparquet')\n",
    "data_hist_convertido_e_nulos.to_parquet('../data/intermediate/data_hist.parquet', index=False, engine='fastparquet')\n",
    "data_cadastro_flag_pf.to_parquet('../data/intermediate/data_cadastro.parquet', index=False, engine='fastparquet')\n",
    "\n",
    "\n",
    "# Lendo de volta do Parquet (Para manter os tipos convertidos)\n",
    "df_lido_parquet = pd.read_parquet('../data/intermediate/data_pagamentos.parquet', engine='fastparquet')\n",
    "\n",
    "\n",
    "# Comparando os tipos de dados\n",
    "print(\"\\n--- Tipos de dados ---\")\n",
    "print(\"Original:\")\n",
    "print(data_pagamentos.dtypes)\n",
    "print(\"\\nLido do Parquet:\")\n",
    "print(df_lido_parquet.dtypes)"
   ]
  }
 ],
 "metadata": {
  "kernelspec": {
   "display_name": ".venv",
   "language": "python",
   "name": "python3"
  },
  "language_info": {
   "codemirror_mode": {
    "name": "ipython",
    "version": 3
   },
   "file_extension": ".py",
   "mimetype": "text/x-python",
   "name": "python",
   "nbconvert_exporter": "python",
   "pygments_lexer": "ipython3",
   "version": "3.11.7"
  }
 },
 "nbformat": 4,
 "nbformat_minor": 5
}
