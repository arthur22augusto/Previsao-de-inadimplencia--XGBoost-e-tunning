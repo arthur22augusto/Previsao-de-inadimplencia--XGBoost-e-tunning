{
 "cells": [
  {
   "cell_type": "code",
   "execution_count": 185,
   "id": "afc1b12b",
   "metadata": {},
   "outputs": [],
   "source": [
    "import pandas as pd\n",
    "import numpy as np\n",
    "import seaborn as sns\n",
    "import matplotlib.pyplot as plt\n",
    "pd.options.display.float_format = '{:.2f}'.format "
   ]
  },
  {
   "cell_type": "markdown",
   "id": "c735cb1c",
   "metadata": {},
   "source": [
    "O objetivo desse notebook é processar e preparar os dados para o treino"
   ]
  },
  {
   "cell_type": "code",
   "execution_count": 186,
   "id": "d6e11d89",
   "metadata": {},
   "outputs": [],
   "source": [
    "#Leitura dos dados\n",
    "\n",
    "data_pagamentos = pd.read_parquet('../data/intermediate/data_pagamentos.parquet', engine='fastparquet')\n",
    "data_cadastro = pd.read_parquet('../data/intermediate/data_cadastro.parquet', engine='fastparquet')\n",
    "data_hist = pd.read_parquet('../data/intermediate/data_hist.parquet', engine='fastparquet')\n",
    "data_objetivo = pd.read_parquet('../data/intermediate/data_objetivo.parquet', engine='fastparquet')"
   ]
  },
  {
   "cell_type": "code",
   "execution_count": 187,
   "id": "197a8590",
   "metadata": {},
   "outputs": [
    {
     "data": {
      "text/plain": [
       "Index(['ID_CLIENTE', 'SAFRA_REF', 'DATA_EMISSAO_DOCUMENTO', 'DATA_PAGAMENTO',\n",
       "       'DATA_VENCIMENTO', 'VALOR_A_PAGAR', 'TAXA', 'DIAS_ATE_PAGAMENTO',\n",
       "       'INADIMPLENTE', 'DIAS_DE_ATRASO', 'PRAZO_PAGAMENTO_DIAS'],\n",
       "      dtype='object')"
      ]
     },
     "execution_count": 187,
     "metadata": {},
     "output_type": "execute_result"
    }
   ],
   "source": [
    "data_pagamentos.columns\n"
   ]
  },
  {
   "cell_type": "code",
   "execution_count": 194,
   "id": "2c8ae20a",
   "metadata": {},
   "outputs": [
    {
     "data": {
      "text/plain": [
       "Index(['ID_CLIENTE', 'DATA_CADASTRO', 'DDD', 'FLAG_PF', 'SEGMENTO_INDUSTRIAL',\n",
       "       'DOMINIO_EMAIL', 'PORTE', 'CEP_2_DIG'],\n",
       "      dtype='object')"
      ]
     },
     "execution_count": 194,
     "metadata": {},
     "output_type": "execute_result"
    }
   ],
   "source": [
    "\n",
    "data_cadastro['FLAG_PF'] = (data_cadastro['FLAG_PF'] == 'PF').astype(int)\n",
    "data_cadastro.columns\n",
    "#PJ = 0 e PF = 1"
   ]
  },
  {
   "cell_type": "code",
   "execution_count": 193,
   "id": "8cb14610",
   "metadata": {},
   "outputs": [
    {
     "data": {
      "text/plain": [
       "Index(['ID_CLIENTE', 'SAFRA_REF', 'RENDA_MES_ANTERIOR', 'NO_FUNCIONARIOS'], dtype='object')"
      ]
     },
     "execution_count": 193,
     "metadata": {},
     "output_type": "execute_result"
    }
   ],
   "source": [
    "data_hist.columns"
   ]
  },
  {
   "cell_type": "code",
   "execution_count": 192,
   "id": "73a0c350",
   "metadata": {},
   "outputs": [
    {
     "data": {
      "text/plain": [
       "Index(['ID_CLIENTE', 'SAFRA_REF', 'DATA_EMISSAO_DOCUMENTO', 'DATA_VENCIMENTO',\n",
       "       'VALOR_A_PAGAR', 'TAXA'],\n",
       "      dtype='object')"
      ]
     },
     "execution_count": 192,
     "metadata": {},
     "output_type": "execute_result"
    }
   ],
   "source": [
    "data_objetivo.columns"
   ]
  },
  {
   "cell_type": "code",
   "execution_count": 191,
   "id": "760b8775",
   "metadata": {},
   "outputs": [
    {
     "data": {
      "text/plain": [
       "ID_CLIENTE                0\n",
       "SAFRA_REF                 0\n",
       "DATA_EMISSAO_DOCUMENTO    0\n",
       "DATA_PAGAMENTO            0\n",
       "DATA_VENCIMENTO           0\n",
       "VALOR_A_PAGAR             0\n",
       "TAXA                      0\n",
       "DIAS_ATE_PAGAMENTO        0\n",
       "INADIMPLENTE              0\n",
       "DIAS_DE_ATRASO            0\n",
       "PRAZO_PAGAMENTO_DIAS      0\n",
       "dtype: int64"
      ]
     },
     "execution_count": 191,
     "metadata": {},
     "output_type": "execute_result"
    }
   ],
   "source": [
    "## Criando features historicas\n",
    "\n",
    "data_pagamentos.isnull().sum()"
   ]
  },
  {
   "cell_type": "code",
   "execution_count": null,
   "id": "d1f5088a",
   "metadata": {},
   "outputs": [],
   "source": [
    "#Como não temos nulos, vamos criar as features historicas\n",
    "#Cria variáveis baseadas no histórico do cliente até a safra anterior.\n",
    "\n",
    "\n",
    "def criar_features_historicas(df):\n",
    "    df_feat = df.copy()\n",
    "    df_feat = df.sort_values(by=['ID_CLIENTE', 'SAFRA_REF'])\n",
    "    grouped = df_feat.groupby('ID_CLIENTE')\n",
    "    \n",
    "    \n",
    "\n",
    "    # 1. Histórico de Bom Pagador: Contagem de pagamentos adiantados\n",
    "    # Primeiro, criamos uma flag temporária para pagamentos adiantados (atraso < 0)\n",
    "\n",
    "    df_feat['PAGOU_ADIANTADO'] = (df_feat['DIAS_DE_ATRASO'] < 0).astype(int)\n",
    "\n",
    "    # Agora, calculamos a soma cumulativa de pagamentos adiantados e usamos shift(1) para pegar o histórico\n",
    "    df_feat['HIST_PAGAMENTOS_ADIANTADOS'] = grouped['PAGOU_ADIANTADO'].cumsum().shift(1)\n",
    "\n",
    "    # 2. Dias de Atraso Acumulados\n",
    "    # Soma cumulativa dos dias de atraso e usa shift(1)\n",
    "    df_feat['HIST_DIAS_ATRASO_ACUMULADO'] = grouped['DIAS_DE_ATRASO'].cumsum().shift(1)\n",
    "\n",
    "    # 3. Dias de Atraso nos Últimos 3 registros\n",
    "    # Usamos uma janela móvel (rolling window) de 3 períodos\n",
    "    # O .reset_index() é necessário para realinhar o resultado com o DataFrame original\n",
    "    soma_atraso_3m = grouped['DIAS_DE_ATRASO'].rolling(window=3, min_periods=1).sum().reset_index(level=0, drop=True)\n",
    "    df_feat['HIST_DIAS_ATRASO_3M'] = soma_atraso_3m.shift(1)\n",
    "\n",
    "    \n",
    "\n",
    "    # 4. Total de Transações Anteriores\n",
    "    # cumcount() conta as ocorrências anteriores dentro do grupo (começa em 0)\n",
    "    df_feat['HIST_QTD_TRANSACOES'] = grouped.cumcount()\n",
    "    \n",
    "    #5. Valor medio pago\n",
    "    df_feat['HIST_VALOR_MEDIO_PAGO'] = grouped['VALOR_A_PAGAR'].expanding().mean().reset_index(level=0, drop=True).shift(1)\n",
    "\n",
    "    # 6. Flag de Inadimplência no Último periodo \n",
    "    df_feat['HIST_INADIMPLENTE_ULT_MES'] = grouped['INADIMPLENTE'].shift(1)\n",
    "\n",
    "    # 7. Média de Dias de Atraso no Histórico\n",
    "    df_feat['HIST_MEDIA_DIAS_ATRASO'] = (\n",
    "    grouped['DIAS_DE_ATRASO']\n",
    "    .expanding()\n",
    "    .mean()\n",
    "    .reset_index(level=0, drop=True)\n",
    "    .shift(1)\n",
    ")\n",
    "\n",
    "\n",
    "    # O shift() cria valores nulos (NaN) para a primeira transação de cada cliente.\n",
    "    colunas_hist = [col for col in df_feat.columns if 'HIST_' in col]\n",
    "    df_feat[colunas_hist] = df_feat[colunas_hist].fillna(0)\n",
    "\n",
    "    # Remover a coluna temporária\n",
    "    df_feat = df_feat.drop(columns=['PAGOU_ADIANTADO'])\n",
    "    \n",
    "    return df_feat\n",
    "\n",
    "data_pagamentos_hist_features = criar_features_historicas(data_pagamentos)\n",
    "\n"
   ]
  },
  {
   "cell_type": "code",
   "execution_count": 154,
   "id": "c4ee5c48",
   "metadata": {},
   "outputs": [],
   "source": [
    "#Juntando as bases de dados para formar somente uma base de dados\n",
    "join_data = (\n",
    "    data_pagamentos_hist_features\n",
    "    .merge(data_cadastro, on='ID_CLIENTE', how='left')\n",
    "    .merge(data_hist, on=['ID_CLIENTE', 'SAFRA_REF'], how='left')\n",
    ")"
   ]
  },
  {
   "cell_type": "code",
   "execution_count": 155,
   "id": "58142719",
   "metadata": {},
   "outputs": [
    {
     "data": {
      "text/plain": [
       "(77367, 26)"
      ]
     },
     "execution_count": 155,
     "metadata": {},
     "output_type": "execute_result"
    }
   ],
   "source": [
    "join_data.shape"
   ]
  },
  {
   "cell_type": "code",
   "execution_count": 156,
   "id": "e59bd73c",
   "metadata": {},
   "outputs": [
    {
     "data": {
      "text/plain": [
       "Index(['ID_CLIENTE', 'SAFRA_REF', 'DATA_EMISSAO_DOCUMENTO', 'DATA_PAGAMENTO',\n",
       "       'DATA_VENCIMENTO', 'VALOR_A_PAGAR', 'TAXA', 'DIAS_ATE_PAGAMENTO',\n",
       "       'INADIMPLENTE', 'DIAS_DE_ATRASO', 'PRAZO_PAGAMENTO_DIAS',\n",
       "       'HIST_PAGAMENTOS_ADIANTADOS', 'HIST_DIAS_ATRASO_ACUMULADO',\n",
       "       'HIST_DIAS_ATRASO_3M', 'HIST_QTD_TRANSACOES', 'HIST_VALOR_MEDIO_PAGO',\n",
       "       'HIST_INADIMPLENTE_ULT_MES', 'HIST_MEDIA_DIAS_ATRASO', 'DATA_CADASTRO',\n",
       "       'FLAG_PF', 'SEGMENTO_INDUSTRIAL', 'DOMINIO_EMAIL', 'PORTE', 'CEP_2_DIG',\n",
       "       'RENDA_MES_ANTERIOR', 'NO_FUNCIONARIOS'],\n",
       "      dtype='object')"
      ]
     },
     "execution_count": 156,
     "metadata": {},
     "output_type": "execute_result"
    }
   ],
   "source": [
    "join_data.columns"
   ]
  },
  {
   "cell_type": "code",
   "execution_count": 157,
   "id": "fa704e57",
   "metadata": {},
   "outputs": [
    {
     "name": "stdout",
     "output_type": "stream",
     "text": [
      "<class 'pandas.core.frame.DataFrame'>\n",
      "RangeIndex: 77367 entries, 0 to 77366\n",
      "Data columns (total 26 columns):\n",
      " #   Column                      Non-Null Count  Dtype         \n",
      "---  ------                      --------------  -----         \n",
      " 0   ID_CLIENTE                  77367 non-null  int64         \n",
      " 1   SAFRA_REF                   77367 non-null  datetime64[ns]\n",
      " 2   DATA_EMISSAO_DOCUMENTO      77367 non-null  datetime64[ns]\n",
      " 3   DATA_PAGAMENTO              77367 non-null  datetime64[ns]\n",
      " 4   DATA_VENCIMENTO             77367 non-null  datetime64[ns]\n",
      " 5   VALOR_A_PAGAR               77367 non-null  float64       \n",
      " 6   TAXA                        77367 non-null  float64       \n",
      " 7   DIAS_ATE_PAGAMENTO          77367 non-null  int64         \n",
      " 8   INADIMPLENTE                77367 non-null  int64         \n",
      " 9   DIAS_DE_ATRASO              77367 non-null  int64         \n",
      " 10  PRAZO_PAGAMENTO_DIAS        77367 non-null  int64         \n",
      " 11  HIST_PAGAMENTOS_ADIANTADOS  77367 non-null  float64       \n",
      " 12  HIST_DIAS_ATRASO_ACUMULADO  77367 non-null  float64       \n",
      " 13  HIST_DIAS_ATRASO_3M         77367 non-null  float64       \n",
      " 14  HIST_QTD_TRANSACOES         77367 non-null  int64         \n",
      " 15  HIST_VALOR_MEDIO_PAGO       77367 non-null  float64       \n",
      " 16  HIST_INADIMPLENTE_ULT_MES   77367 non-null  float64       \n",
      " 17  HIST_MEDIA_DIAS_ATRASO      77367 non-null  float64       \n",
      " 18  DATA_CADASTRO               77367 non-null  datetime64[ns]\n",
      " 19  FLAG_PF                     77367 non-null  object        \n",
      " 20  SEGMENTO_INDUSTRIAL         77367 non-null  object        \n",
      " 21  DOMINIO_EMAIL               77367 non-null  object        \n",
      " 22  PORTE                       77367 non-null  object        \n",
      " 23  CEP_2_DIG                   77367 non-null  object        \n",
      " 24  RENDA_MES_ANTERIOR          73435 non-null  float64       \n",
      " 25  NO_FUNCIONARIOS             73434 non-null  float64       \n",
      "dtypes: datetime64[ns](5), float64(10), int64(6), object(5)\n",
      "memory usage: 15.3+ MB\n"
     ]
    }
   ],
   "source": [
    "join_data.info()"
   ]
  },
  {
   "cell_type": "code",
   "execution_count": 158,
   "id": "fc27f42b",
   "metadata": {},
   "outputs": [
    {
     "data": {
      "text/html": [
       "<div>\n",
       "<style scoped>\n",
       "    .dataframe tbody tr th:only-of-type {\n",
       "        vertical-align: middle;\n",
       "    }\n",
       "\n",
       "    .dataframe tbody tr th {\n",
       "        vertical-align: top;\n",
       "    }\n",
       "\n",
       "    .dataframe thead th {\n",
       "        text-align: right;\n",
       "    }\n",
       "</style>\n",
       "<table border=\"1\" class=\"dataframe\">\n",
       "  <thead>\n",
       "    <tr style=\"text-align: right;\">\n",
       "      <th></th>\n",
       "      <th>ID_CLIENTE</th>\n",
       "      <th>SAFRA_REF</th>\n",
       "      <th>DATA_EMISSAO_DOCUMENTO</th>\n",
       "      <th>DATA_PAGAMENTO</th>\n",
       "      <th>DATA_VENCIMENTO</th>\n",
       "      <th>VALOR_A_PAGAR</th>\n",
       "      <th>TAXA</th>\n",
       "      <th>DIAS_ATE_PAGAMENTO</th>\n",
       "      <th>INADIMPLENTE</th>\n",
       "      <th>DIAS_DE_ATRASO</th>\n",
       "      <th>...</th>\n",
       "      <th>HIST_INADIMPLENTE_ULT_MES</th>\n",
       "      <th>HIST_MEDIA_DIAS_ATRASO</th>\n",
       "      <th>DATA_CADASTRO</th>\n",
       "      <th>FLAG_PF</th>\n",
       "      <th>SEGMENTO_INDUSTRIAL</th>\n",
       "      <th>DOMINIO_EMAIL</th>\n",
       "      <th>PORTE</th>\n",
       "      <th>CEP_2_DIG</th>\n",
       "      <th>RENDA_MES_ANTERIOR</th>\n",
       "      <th>NO_FUNCIONARIOS</th>\n",
       "    </tr>\n",
       "  </thead>\n",
       "  <tbody>\n",
       "    <tr>\n",
       "      <th>0</th>\n",
       "      <td>8784237149961904</td>\n",
       "      <td>2018-08-01</td>\n",
       "      <td>2018-08-17</td>\n",
       "      <td>2018-09-04</td>\n",
       "      <td>2018-09-04</td>\n",
       "      <td>100616.10</td>\n",
       "      <td>5.99</td>\n",
       "      <td>18</td>\n",
       "      <td>0</td>\n",
       "      <td>0</td>\n",
       "      <td>...</td>\n",
       "      <td>0.00</td>\n",
       "      <td>0.00</td>\n",
       "      <td>2011-02-14</td>\n",
       "      <td>PJ</td>\n",
       "      <td>Comércio</td>\n",
       "      <td>HOTMAIL</td>\n",
       "      <td>PEQUENO</td>\n",
       "      <td>27</td>\n",
       "      <td>NaN</td>\n",
       "      <td>NaN</td>\n",
       "    </tr>\n",
       "    <tr>\n",
       "      <th>1</th>\n",
       "      <td>8784237149961904</td>\n",
       "      <td>2018-08-01</td>\n",
       "      <td>2018-08-22</td>\n",
       "      <td>2018-09-11</td>\n",
       "      <td>2018-09-11</td>\n",
       "      <td>89552.80</td>\n",
       "      <td>5.99</td>\n",
       "      <td>20</td>\n",
       "      <td>0</td>\n",
       "      <td>0</td>\n",
       "      <td>...</td>\n",
       "      <td>0.00</td>\n",
       "      <td>0.00</td>\n",
       "      <td>2011-02-14</td>\n",
       "      <td>PJ</td>\n",
       "      <td>Comércio</td>\n",
       "      <td>HOTMAIL</td>\n",
       "      <td>PEQUENO</td>\n",
       "      <td>27</td>\n",
       "      <td>NaN</td>\n",
       "      <td>NaN</td>\n",
       "    </tr>\n",
       "    <tr>\n",
       "      <th>2</th>\n",
       "      <td>8784237149961904</td>\n",
       "      <td>2018-08-01</td>\n",
       "      <td>2018-08-23</td>\n",
       "      <td>2018-09-10</td>\n",
       "      <td>2018-09-10</td>\n",
       "      <td>94062.80</td>\n",
       "      <td>5.99</td>\n",
       "      <td>18</td>\n",
       "      <td>0</td>\n",
       "      <td>0</td>\n",
       "      <td>...</td>\n",
       "      <td>0.00</td>\n",
       "      <td>0.00</td>\n",
       "      <td>2011-02-14</td>\n",
       "      <td>PJ</td>\n",
       "      <td>Comércio</td>\n",
       "      <td>HOTMAIL</td>\n",
       "      <td>PEQUENO</td>\n",
       "      <td>27</td>\n",
       "      <td>NaN</td>\n",
       "      <td>NaN</td>\n",
       "    </tr>\n",
       "    <tr>\n",
       "      <th>3</th>\n",
       "      <td>8784237149961904</td>\n",
       "      <td>2018-08-01</td>\n",
       "      <td>2018-08-23</td>\n",
       "      <td>2018-09-08</td>\n",
       "      <td>2018-09-10</td>\n",
       "      <td>102686.10</td>\n",
       "      <td>5.99</td>\n",
       "      <td>16</td>\n",
       "      <td>0</td>\n",
       "      <td>-2</td>\n",
       "      <td>...</td>\n",
       "      <td>0.00</td>\n",
       "      <td>0.00</td>\n",
       "      <td>2011-02-14</td>\n",
       "      <td>PJ</td>\n",
       "      <td>Comércio</td>\n",
       "      <td>HOTMAIL</td>\n",
       "      <td>PEQUENO</td>\n",
       "      <td>27</td>\n",
       "      <td>NaN</td>\n",
       "      <td>NaN</td>\n",
       "    </tr>\n",
       "    <tr>\n",
       "      <th>4</th>\n",
       "      <td>8784237149961904</td>\n",
       "      <td>2018-08-01</td>\n",
       "      <td>2018-08-24</td>\n",
       "      <td>2018-09-11</td>\n",
       "      <td>2018-09-11</td>\n",
       "      <td>51393.00</td>\n",
       "      <td>5.99</td>\n",
       "      <td>18</td>\n",
       "      <td>0</td>\n",
       "      <td>0</td>\n",
       "      <td>...</td>\n",
       "      <td>0.00</td>\n",
       "      <td>-0.50</td>\n",
       "      <td>2011-02-14</td>\n",
       "      <td>PJ</td>\n",
       "      <td>Comércio</td>\n",
       "      <td>HOTMAIL</td>\n",
       "      <td>PEQUENO</td>\n",
       "      <td>27</td>\n",
       "      <td>NaN</td>\n",
       "      <td>NaN</td>\n",
       "    </tr>\n",
       "  </tbody>\n",
       "</table>\n",
       "<p>5 rows × 26 columns</p>\n",
       "</div>"
      ],
      "text/plain": [
       "         ID_CLIENTE  SAFRA_REF DATA_EMISSAO_DOCUMENTO DATA_PAGAMENTO  \\\n",
       "0  8784237149961904 2018-08-01             2018-08-17     2018-09-04   \n",
       "1  8784237149961904 2018-08-01             2018-08-22     2018-09-11   \n",
       "2  8784237149961904 2018-08-01             2018-08-23     2018-09-10   \n",
       "3  8784237149961904 2018-08-01             2018-08-23     2018-09-08   \n",
       "4  8784237149961904 2018-08-01             2018-08-24     2018-09-11   \n",
       "\n",
       "  DATA_VENCIMENTO  VALOR_A_PAGAR  TAXA  DIAS_ATE_PAGAMENTO  INADIMPLENTE  \\\n",
       "0      2018-09-04      100616.10  5.99                  18             0   \n",
       "1      2018-09-11       89552.80  5.99                  20             0   \n",
       "2      2018-09-10       94062.80  5.99                  18             0   \n",
       "3      2018-09-10      102686.10  5.99                  16             0   \n",
       "4      2018-09-11       51393.00  5.99                  18             0   \n",
       "\n",
       "   DIAS_DE_ATRASO  ...  HIST_INADIMPLENTE_ULT_MES  HIST_MEDIA_DIAS_ATRASO  \\\n",
       "0               0  ...                       0.00                    0.00   \n",
       "1               0  ...                       0.00                    0.00   \n",
       "2               0  ...                       0.00                    0.00   \n",
       "3              -2  ...                       0.00                    0.00   \n",
       "4               0  ...                       0.00                   -0.50   \n",
       "\n",
       "   DATA_CADASTRO  FLAG_PF  SEGMENTO_INDUSTRIAL  DOMINIO_EMAIL    PORTE  \\\n",
       "0     2011-02-14       PJ             Comércio        HOTMAIL  PEQUENO   \n",
       "1     2011-02-14       PJ             Comércio        HOTMAIL  PEQUENO   \n",
       "2     2011-02-14       PJ             Comércio        HOTMAIL  PEQUENO   \n",
       "3     2011-02-14       PJ             Comércio        HOTMAIL  PEQUENO   \n",
       "4     2011-02-14       PJ             Comércio        HOTMAIL  PEQUENO   \n",
       "\n",
       "   CEP_2_DIG RENDA_MES_ANTERIOR NO_FUNCIONARIOS  \n",
       "0         27                NaN             NaN  \n",
       "1         27                NaN             NaN  \n",
       "2         27                NaN             NaN  \n",
       "3         27                NaN             NaN  \n",
       "4         27                NaN             NaN  \n",
       "\n",
       "[5 rows x 26 columns]"
      ]
     },
     "execution_count": 158,
     "metadata": {},
     "output_type": "execute_result"
    }
   ],
   "source": [
    "join_data.head()"
   ]
  },
  {
   "cell_type": "code",
   "execution_count": 159,
   "id": "53be1f7a",
   "metadata": {},
   "outputs": [
    {
     "data": {
      "text/plain": [
       "Index(['ID_CLIENTE', 'SAFRA_REF', 'DATA_EMISSAO_DOCUMENTO', 'DATA_PAGAMENTO',\n",
       "       'DATA_VENCIMENTO', 'VALOR_A_PAGAR', 'TAXA', 'DIAS_ATE_PAGAMENTO',\n",
       "       'INADIMPLENTE', 'DIAS_DE_ATRASO', 'PRAZO_PAGAMENTO_DIAS',\n",
       "       'HIST_PAGAMENTOS_ADIANTADOS', 'HIST_DIAS_ATRASO_ACUMULADO',\n",
       "       'HIST_DIAS_ATRASO_3M', 'HIST_QTD_TRANSACOES', 'HIST_VALOR_MEDIO_PAGO',\n",
       "       'HIST_INADIMPLENTE_ULT_MES', 'HIST_MEDIA_DIAS_ATRASO', 'DATA_CADASTRO',\n",
       "       'FLAG_PF', 'SEGMENTO_INDUSTRIAL', 'PORTE', 'CEP_2_DIG',\n",
       "       'RENDA_MES_ANTERIOR', 'NO_FUNCIONARIOS'],\n",
       "      dtype='object')"
      ]
     },
     "execution_count": 159,
     "metadata": {},
     "output_type": "execute_result"
    }
   ],
   "source": [
    "join_data = join_data.drop(columns=['DOMINIO_EMAIL'])\n",
    "join_data.columns"
   ]
  },
  {
   "cell_type": "markdown",
   "id": "2d519379",
   "metadata": {},
   "source": [
    "# Preparando a base completa para o modelo"
   ]
  },
  {
   "cell_type": "markdown",
   "id": "6d7cbacb",
   "metadata": {},
   "source": [
    "## Tratando nulos"
   ]
  },
  {
   "cell_type": "code",
   "execution_count": 161,
   "id": "7436ea4d",
   "metadata": {},
   "outputs": [
    {
     "data": {
      "text/plain": [
       "ID_CLIENTE                    0\n",
       "SAFRA_REF                     0\n",
       "DATA_EMISSAO_DOCUMENTO        0\n",
       "DATA_PAGAMENTO                0\n",
       "DATA_VENCIMENTO               0\n",
       "VALOR_A_PAGAR                 0\n",
       "TAXA                          0\n",
       "DIAS_ATE_PAGAMENTO            0\n",
       "INADIMPLENTE                  0\n",
       "DIAS_DE_ATRASO                0\n",
       "PRAZO_PAGAMENTO_DIAS          0\n",
       "HIST_PAGAMENTOS_ADIANTADOS    0\n",
       "HIST_DIAS_ATRASO_ACUMULADO    0\n",
       "HIST_DIAS_ATRASO_3M           0\n",
       "HIST_QTD_TRANSACOES           0\n",
       "HIST_VALOR_MEDIO_PAGO         0\n",
       "HIST_INADIMPLENTE_ULT_MES     0\n",
       "HIST_MEDIA_DIAS_ATRASO        0\n",
       "DATA_CADASTRO                 0\n",
       "FLAG_PF                       0\n",
       "SEGMENTO_INDUSTRIAL           0\n",
       "PORTE                         0\n",
       "CEP_2_DIG                     0\n",
       "RENDA_MES_ANTERIOR            0\n",
       "NO_FUNCIONARIOS               0\n",
       "dtype: int64"
      ]
     },
     "execution_count": 161,
     "metadata": {},
     "output_type": "execute_result"
    }
   ],
   "source": [
    "#Analisando os dados vamos preencher com base na mediana a renda do mes anterior e com base na media no\n",
    "#nro de funcionarios\n",
    "\n",
    "def preencher_valores_faltantes(df):\n",
    "    df['RENDA_MES_ANTERIOR'] = df.groupby(['PORTE', 'SEGMENTO_INDUSTRIAL'])['RENDA_MES_ANTERIOR'].transform(\n",
    "        lambda x: x.fillna(x.median())\n",
    "    )\n",
    "\n",
    "    df['NO_FUNCIONARIOS'] = df.groupby(['PORTE', 'SEGMENTO_INDUSTRIAL'])['NO_FUNCIONARIOS'].transform(\n",
    "        lambda x: x.fillna(x.mean())\n",
    "    )\n",
    "\n",
    "    return df\n",
    "\n",
    "\n",
    "join_data_filled = (\n",
    "    join_data.copy()\n",
    "    .pipe(preencher_valores_faltantes)\n",
    ")\n",
    "\n",
    "join_data_filled.isnull().sum()"
   ]
  },
  {
   "cell_type": "code",
   "execution_count": 162,
   "id": "caef7dd2",
   "metadata": {},
   "outputs": [
    {
     "data": {
      "text/plain": [
       "Index(['ID_CLIENTE', 'SAFRA_REF', 'DATA_EMISSAO_DOCUMENTO', 'DATA_PAGAMENTO',\n",
       "       'DATA_VENCIMENTO', 'VALOR_A_PAGAR', 'TAXA', 'DIAS_ATE_PAGAMENTO',\n",
       "       'INADIMPLENTE', 'DIAS_DE_ATRASO', 'PRAZO_PAGAMENTO_DIAS',\n",
       "       'HIST_PAGAMENTOS_ADIANTADOS', 'HIST_DIAS_ATRASO_ACUMULADO',\n",
       "       'HIST_DIAS_ATRASO_3M', 'HIST_QTD_TRANSACOES', 'HIST_VALOR_MEDIO_PAGO',\n",
       "       'HIST_INADIMPLENTE_ULT_MES', 'HIST_MEDIA_DIAS_ATRASO', 'DATA_CADASTRO',\n",
       "       'FLAG_PF', 'SEGMENTO_INDUSTRIAL', 'PORTE', 'CEP_2_DIG',\n",
       "       'RENDA_MES_ANTERIOR', 'NO_FUNCIONARIOS'],\n",
       "      dtype='object')"
      ]
     },
     "execution_count": 162,
     "metadata": {},
     "output_type": "execute_result"
    }
   ],
   "source": [
    "join_data_filled.columns"
   ]
  },
  {
   "cell_type": "code",
   "execution_count": 163,
   "id": "262c91dc",
   "metadata": {},
   "outputs": [
    {
     "data": {
      "text/plain": [
       "Index(['ID_CLIENTE', 'SAFRA_REF', 'DATA_EMISSAO_DOCUMENTO', 'DATA_VENCIMENTO',\n",
       "       'VALOR_A_PAGAR', 'TAXA'],\n",
       "      dtype='object')"
      ]
     },
     "execution_count": 163,
     "metadata": {},
     "output_type": "execute_result"
    }
   ],
   "source": [
    "data_objetivo.columns"
   ]
  },
  {
   "cell_type": "code",
   "execution_count": null,
   "id": "e41026f3",
   "metadata": {},
   "outputs": [],
   "source": [
    "#Criando variável de sazonalidade\n",
    "\n",
    "join_data_filled['MES_EMISSAO'] = join_data_filled['DATA_EMISSAO_DOCUMENTO'].dt.month\n"
   ]
  },
  {
   "cell_type": "markdown",
   "id": "7b302e72",
   "metadata": {},
   "source": [
    "## Lidar com categoricas"
   ]
  },
  {
   "cell_type": "code",
   "execution_count": 182,
   "id": "b96c342d",
   "metadata": {},
   "outputs": [
    {
     "data": {
      "text/plain": [
       "(77367, 26)"
      ]
     },
     "execution_count": 182,
     "metadata": {},
     "output_type": "execute_result"
    }
   ],
   "source": [
    "join_data_filled.shape"
   ]
  },
  {
   "cell_type": "code",
   "execution_count": 184,
   "id": "99337ca1",
   "metadata": {},
   "outputs": [
    {
     "data": {
      "text/plain": [
       "CEP_2_DIG\n",
       "13    3886\n",
       "35    2845\n",
       "68    2603\n",
       "89    2587\n",
       "86    2135\n",
       "      ... \n",
       "24     110\n",
       "51      91\n",
       "53      37\n",
       "52      29\n",
       "na       8\n",
       "Name: count, Length: 90, dtype: int64"
      ]
     },
     "execution_count": 184,
     "metadata": {},
     "output_type": "execute_result"
    }
   ],
   "source": [
    "join_data_filled['CEP_2_DIG'].value_counts()"
   ]
  },
  {
   "cell_type": "code",
   "execution_count": 210,
   "id": "50518fa6",
   "metadata": {},
   "outputs": [
    {
     "name": "stdout",
     "output_type": "stream",
     "text": [
      "REGIAO_CEP\n",
      "Sudeste         32140\n",
      "Sul             12788\n",
      "Desconhecido    12342\n",
      "Nordeste        11393\n",
      "Centro-Oeste     5148\n",
      "Norte            3556\n",
      "Name: count, dtype: int64\n"
     ]
    }
   ],
   "source": [
    "def map_regiao_cep(cep2):\n",
    "    try:\n",
    "        cep2 = int(cep2)\n",
    "    except:\n",
    "        return 'Desconhecido'\n",
    "\n",
    "    if 1 <= cep2 <= 39:\n",
    "        return 'Sudeste'\n",
    "    elif cep2 in set(range(40, 50)) | set(range(60, 68)) | {67}:\n",
    "        return 'Nordeste'\n",
    "    elif cep2 in {68, 69, 77}:\n",
    "        return 'Norte'\n",
    "    elif cep2 in {70, 71, 72, 73, 74, 75, 76}:\n",
    "        return 'Centro-Oeste'\n",
    "    elif 80 <= cep2 <= 89:\n",
    "        return 'Sul'\n",
    "    else:\n",
    "        return 'Desconhecido'\n",
    "\n",
    "\n",
    "df_modelo_encoded = join_data_filled.copy()\n",
    "df_modelo_encoded['REGIAO_CEP'] = df_modelo_encoded['CEP_2_DIG'].apply(map_regiao_cep)\n",
    "\n",
    "# Confirme que a coluna foi criada\n",
    "print(df_modelo_encoded['REGIAO_CEP'].value_counts(dropna=False))\n"
   ]
  },
  {
   "cell_type": "code",
   "execution_count": 211,
   "id": "566ea2e3",
   "metadata": {},
   "outputs": [],
   "source": [
    "# Remover CEP_2_DIG e aplicar one-hot\n",
    "df_modelo_encoded.drop(columns='CEP_2_DIG', inplace=True)\n",
    "df_modelo_encoded = pd.get_dummies(df_modelo_encoded, columns=['REGIAO_CEP'], drop_first=True)"
   ]
  },
  {
   "cell_type": "code",
   "execution_count": 212,
   "id": "bae36301",
   "metadata": {},
   "outputs": [],
   "source": [
    "\n",
    "# Label Encoding para PORTE (ordinals)\n",
    "df_modelo_encoded['PORTE'] = df_modelo_encoded['PORTE'].astype('category').cat.codes"
   ]
  },
  {
   "cell_type": "code",
   "execution_count": 213,
   "id": "0fc0e36b",
   "metadata": {},
   "outputs": [],
   "source": [
    "# One-Hot Encoding para SEGMENTO_INDUSTRIAL\n",
    "colunas_onehot = ['SEGMENTO_INDUSTRIAL']\n",
    "df_modelo_encoded = pd.get_dummies(df_modelo_encoded, columns=colunas_onehot, drop_first=True)"
   ]
  },
  {
   "cell_type": "code",
   "execution_count": 214,
   "id": "59bd86c4",
   "metadata": {},
   "outputs": [
    {
     "name": "stdout",
     "output_type": "stream",
     "text": [
      "Colunas finais após encoding:\n",
      "(77367, 32)\n"
     ]
    }
   ],
   "source": [
    "\n",
    "print(\"Colunas finais após encoding:\")\n",
    "print(df_modelo_encoded.shape)"
   ]
  },
  {
   "cell_type": "code",
   "execution_count": 215,
   "id": "308c8618",
   "metadata": {},
   "outputs": [],
   "source": [
    "# Salve a base final\n",
    "df_modelo_encoded.to_parquet(\"../data/final/dados_modelo_pronto.parquet\", index=False)\n"
   ]
  }
 ],
 "metadata": {
  "kernelspec": {
   "display_name": ".venv",
   "language": "python",
   "name": "python3"
  },
  "language_info": {
   "codemirror_mode": {
    "name": "ipython",
    "version": 3
   },
   "file_extension": ".py",
   "mimetype": "text/x-python",
   "name": "python",
   "nbconvert_exporter": "python",
   "pygments_lexer": "ipython3",
   "version": "3.11.7"
  }
 },
 "nbformat": 4,
 "nbformat_minor": 5
}
