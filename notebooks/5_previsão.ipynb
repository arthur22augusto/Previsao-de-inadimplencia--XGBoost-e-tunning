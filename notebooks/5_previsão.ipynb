{
 "cells": [
  {
   "cell_type": "code",
   "execution_count": 252,
   "id": "569a0193",
   "metadata": {},
   "outputs": [],
   "source": [
    "#Realizando a previsão com o modelo otimizado\n",
    "from xgboost import XGBClassifier\n",
    "import xgboost as xgb\n",
    "import pandas as pd\n",
    "import numpy as np\n"
   ]
  },
  {
   "cell_type": "code",
   "execution_count": 253,
   "id": "980c47af",
   "metadata": {},
   "outputs": [],
   "source": [
    "#Carregando o modelo otimizado\n",
    "model = XGBClassifier()\n",
    "model.load_model('../models/xgb_inadimplencia_optuna.json')"
   ]
  },
  {
   "cell_type": "code",
   "execution_count": 254,
   "id": "cfd9ee88",
   "metadata": {},
   "outputs": [],
   "source": [
    "#Carregando dados alvo\n",
    "dados_previsao = pd.read_parquet('../data/intermediate/data_objetivo.parquet', engine='fastparquet')"
   ]
  },
  {
   "cell_type": "code",
   "execution_count": 255,
   "id": "7e0bf0c6",
   "metadata": {},
   "outputs": [
    {
     "data": {
      "text/html": [
       "<div>\n",
       "<style scoped>\n",
       "    .dataframe tbody tr th:only-of-type {\n",
       "        vertical-align: middle;\n",
       "    }\n",
       "\n",
       "    .dataframe tbody tr th {\n",
       "        vertical-align: top;\n",
       "    }\n",
       "\n",
       "    .dataframe thead th {\n",
       "        text-align: right;\n",
       "    }\n",
       "</style>\n",
       "<table border=\"1\" class=\"dataframe\">\n",
       "  <thead>\n",
       "    <tr style=\"text-align: right;\">\n",
       "      <th></th>\n",
       "      <th>ID_CLIENTE</th>\n",
       "      <th>SAFRA_REF</th>\n",
       "      <th>DATA_EMISSAO_DOCUMENTO</th>\n",
       "      <th>DATA_VENCIMENTO</th>\n",
       "      <th>VALOR_A_PAGAR</th>\n",
       "      <th>TAXA</th>\n",
       "    </tr>\n",
       "  </thead>\n",
       "  <tbody>\n",
       "    <tr>\n",
       "      <th>0</th>\n",
       "      <td>5058298901476893676</td>\n",
       "      <td>2021-07-01</td>\n",
       "      <td>2021-07-14</td>\n",
       "      <td>2021-08-04</td>\n",
       "      <td>11204.75</td>\n",
       "      <td>4.99</td>\n",
       "    </tr>\n",
       "    <tr>\n",
       "      <th>1</th>\n",
       "      <td>274692171162531764</td>\n",
       "      <td>2021-07-01</td>\n",
       "      <td>2021-07-08</td>\n",
       "      <td>2021-08-23</td>\n",
       "      <td>60718.50</td>\n",
       "      <td>5.99</td>\n",
       "    </tr>\n",
       "    <tr>\n",
       "      <th>2</th>\n",
       "      <td>274692171162531764</td>\n",
       "      <td>2021-07-01</td>\n",
       "      <td>2021-07-11</td>\n",
       "      <td>2021-08-25</td>\n",
       "      <td>60718.50</td>\n",
       "      <td>5.99</td>\n",
       "    </tr>\n",
       "    <tr>\n",
       "      <th>3</th>\n",
       "      <td>274692171162531764</td>\n",
       "      <td>2021-07-01</td>\n",
       "      <td>2021-07-16</td>\n",
       "      <td>2021-08-30</td>\n",
       "      <td>62250.00</td>\n",
       "      <td>5.99</td>\n",
       "    </tr>\n",
       "    <tr>\n",
       "      <th>4</th>\n",
       "      <td>465309249432033993</td>\n",
       "      <td>2021-07-01</td>\n",
       "      <td>2021-07-05</td>\n",
       "      <td>2021-07-30</td>\n",
       "      <td>26593.95</td>\n",
       "      <td>6.99</td>\n",
       "    </tr>\n",
       "  </tbody>\n",
       "</table>\n",
       "</div>"
      ],
      "text/plain": [
       "            ID_CLIENTE  SAFRA_REF DATA_EMISSAO_DOCUMENTO DATA_VENCIMENTO  \\\n",
       "0  5058298901476893676 2021-07-01             2021-07-14      2021-08-04   \n",
       "1   274692171162531764 2021-07-01             2021-07-08      2021-08-23   \n",
       "2   274692171162531764 2021-07-01             2021-07-11      2021-08-25   \n",
       "3   274692171162531764 2021-07-01             2021-07-16      2021-08-30   \n",
       "4   465309249432033993 2021-07-01             2021-07-05      2021-07-30   \n",
       "\n",
       "   VALOR_A_PAGAR  TAXA  \n",
       "0       11204.75  4.99  \n",
       "1       60718.50  5.99  \n",
       "2       60718.50  5.99  \n",
       "3       62250.00  5.99  \n",
       "4       26593.95  6.99  "
      ]
     },
     "execution_count": 255,
     "metadata": {},
     "output_type": "execute_result"
    }
   ],
   "source": [
    "dados_previsao.head()"
   ]
  },
  {
   "cell_type": "code",
   "execution_count": 256,
   "id": "2ea929a8",
   "metadata": {},
   "outputs": [
    {
     "data": {
      "text/plain": [
       "Index(['ID_CLIENTE', 'SAFRA_REF', 'DATA_EMISSAO_DOCUMENTO', 'DATA_VENCIMENTO',\n",
       "       'VALOR_A_PAGAR', 'TAXA'],\n",
       "      dtype='object')"
      ]
     },
     "execution_count": 256,
     "metadata": {},
     "output_type": "execute_result"
    }
   ],
   "source": [
    "dados_previsao.columns"
   ]
  },
  {
   "cell_type": "code",
   "execution_count": 257,
   "id": "6ca38af8",
   "metadata": {},
   "outputs": [
    {
     "data": {
      "text/plain": [
       "ID_CLIENTE                  0\n",
       "SAFRA_REF                   0\n",
       "DATA_EMISSAO_DOCUMENTO      0\n",
       "DATA_VENCIMENTO             0\n",
       "VALOR_A_PAGAR             131\n",
       "TAXA                        0\n",
       "dtype: int64"
      ]
     },
     "execution_count": 257,
     "metadata": {},
     "output_type": "execute_result"
    }
   ],
   "source": [
    "dados_previsao.isnull().sum()"
   ]
  },
  {
   "cell_type": "code",
   "execution_count": 258,
   "id": "8660f271",
   "metadata": {},
   "outputs": [
    {
     "name": "stdout",
     "output_type": "stream",
     "text": [
      "<class 'pandas.core.frame.DataFrame'>\n",
      "RangeIndex: 12275 entries, 0 to 12274\n",
      "Data columns (total 6 columns):\n",
      " #   Column                  Non-Null Count  Dtype         \n",
      "---  ------                  --------------  -----         \n",
      " 0   ID_CLIENTE              12275 non-null  int64         \n",
      " 1   SAFRA_REF               12275 non-null  datetime64[ns]\n",
      " 2   DATA_EMISSAO_DOCUMENTO  12275 non-null  datetime64[ns]\n",
      " 3   DATA_VENCIMENTO         12275 non-null  datetime64[ns]\n",
      " 4   VALOR_A_PAGAR           12144 non-null  float64       \n",
      " 5   TAXA                    12275 non-null  float64       \n",
      "dtypes: datetime64[ns](3), float64(2), int64(1)\n",
      "memory usage: 575.5 KB\n"
     ]
    }
   ],
   "source": [
    "dados_previsao.info()"
   ]
  },
  {
   "cell_type": "code",
   "execution_count": 259,
   "id": "babab5f9",
   "metadata": {},
   "outputs": [
    {
     "data": {
      "text/plain": [
       "Index(['ID_CLIENTE', 'SAFRA_REF', 'DATA_EMISSAO_DOCUMENTO', 'DATA_VENCIMENTO',\n",
       "       'VALOR_A_PAGAR', 'TAXA'],\n",
       "      dtype='object')"
      ]
     },
     "execution_count": 259,
     "metadata": {},
     "output_type": "execute_result"
    }
   ],
   "source": [
    "dados_previsao.columns"
   ]
  },
  {
   "cell_type": "markdown",
   "id": "542666bc",
   "metadata": {},
   "source": [
    "## Enriquecendo a previsao com informações de cadastro"
   ]
  },
  {
   "cell_type": "code",
   "execution_count": 260,
   "id": "d5f5783a",
   "metadata": {},
   "outputs": [
    {
     "data": {
      "text/plain": [
       "Index(['ID_CLIENTE', 'DATA_CADASTRO', 'FLAG_PF', 'SEGMENTO_INDUSTRIAL',\n",
       "       'DOMINIO_EMAIL', 'PORTE', 'CEP_2_DIG'],\n",
       "      dtype='object')"
      ]
     },
     "execution_count": 260,
     "metadata": {},
     "output_type": "execute_result"
    }
   ],
   "source": [
    "#Enriquecer a base de dados com dados cadastrais\n",
    "data_cadastro = pd.read_parquet('../data/intermediate/data_cadastro.parquet', engine='fastparquet')\n",
    "data_cadastro.columns"
   ]
  },
  {
   "cell_type": "code",
   "execution_count": 261,
   "id": "5f04f802",
   "metadata": {},
   "outputs": [
    {
     "data": {
      "text/plain": [
       "Index(['ID_CLIENTE', 'SAFRA_REF', 'DATA_EMISSAO_DOCUMENTO', 'DATA_VENCIMENTO',\n",
       "       'VALOR_A_PAGAR', 'TAXA', 'DATA_CADASTRO', 'FLAG_PF',\n",
       "       'SEGMENTO_INDUSTRIAL', 'DOMINIO_EMAIL', 'PORTE', 'CEP_2_DIG'],\n",
       "      dtype='object')"
      ]
     },
     "execution_count": 261,
     "metadata": {},
     "output_type": "execute_result"
    }
   ],
   "source": [
    "dados_previsao = dados_previsao.merge(data_cadastro, on='ID_CLIENTE', how='left')\n",
    "dados_previsao.columns\n"
   ]
  },
  {
   "cell_type": "code",
   "execution_count": 262,
   "id": "d399bda8",
   "metadata": {},
   "outputs": [
    {
     "data": {
      "text/plain": [
       "ID_CLIENTE                  0\n",
       "SAFRA_REF                   0\n",
       "DATA_EMISSAO_DOCUMENTO      0\n",
       "DATA_VENCIMENTO             0\n",
       "VALOR_A_PAGAR             131\n",
       "TAXA                        0\n",
       "DATA_CADASTRO              38\n",
       "FLAG_PF                    38\n",
       "SEGMENTO_INDUSTRIAL        38\n",
       "DOMINIO_EMAIL              38\n",
       "PORTE                      38\n",
       "CEP_2_DIG                  38\n",
       "dtype: int64"
      ]
     },
     "execution_count": 262,
     "metadata": {},
     "output_type": "execute_result"
    }
   ],
   "source": [
    "dados_previsao.isnull().sum()"
   ]
  },
  {
   "cell_type": "markdown",
   "id": "621b4b90",
   "metadata": {},
   "source": [
    "## Enriquecendo a base com base nas informações dos clientes e histórico"
   ]
  },
  {
   "cell_type": "code",
   "execution_count": 263,
   "id": "b9ad9e82",
   "metadata": {},
   "outputs": [
    {
     "data": {
      "text/plain": [
       "Index(['ID_CLIENTE', 'VALOR_A_PAGAR', 'HIST_PAGAMENTOS_ADIANTADOS',\n",
       "       'HIST_DIAS_ATRASO_ACUMULADO', 'HIST_DIAS_ATRASO_3M',\n",
       "       'HIST_QTD_TRANSACOES', 'HIST_VALOR_MEDIO_PAGO',\n",
       "       'HIST_INADIMPLENTE_ULT_MES', 'HIST_MEDIA_DIAS_ATRASO',\n",
       "       'RENDA_MES_ANTERIOR', 'NO_FUNCIONARIOS'],\n",
       "      dtype='object')"
      ]
     },
     "execution_count": 263,
     "metadata": {},
     "output_type": "execute_result"
    }
   ],
   "source": [
    "#Vamos enriquecer a base de dados com as features históricas\n",
    "dados_historicos = pd.read_parquet('../data/final/data_model_final_with_columns.parquet', engine='fastparquet')\n",
    "dados_historicos.columns\n",
    "\n",
    "\n",
    "base_ult_hist = (\n",
    "    dados_historicos\n",
    "    .sort_values(['ID_CLIENTE', 'SAFRA_REF'])\n",
    "    .groupby('ID_CLIENTE', as_index=False)\n",
    "    .last()\n",
    "    .drop(columns=[\n",
    "        'PRAZO_PAGAMENTO_DIAS','DATA_EMISSAO_DOCUMENTO', 'DATA_PAGAMENTO',\n",
    "        'DATA_VENCIMENTO', 'TAXA', 'DIAS_ATE_PAGAMENTO', 'INADIMPLENTE', 'DIAS_DE_ATRASO', \"SAFRA_REF\",\n",
    "        'DATA_CADASTRO', 'FLAG_PF', 'PORTE',\n",
    "        'MES_EMISSAO', 'REGIAO_CEP_Desconhecido', 'REGIAO_CEP_Nordeste',\n",
    "        'REGIAO_CEP_Norte', 'REGIAO_CEP_Sudeste', 'REGIAO_CEP_Sul',\n",
    "        'SEGMENTO_INDUSTRIAL_Indústria', 'SEGMENTO_INDUSTRIAL_PJ',\n",
    "        'SEGMENTO_INDUSTRIAL_Serviços'\n",
    "    ])\n",
    ")\n",
    "\n",
    "base_ult_hist.columns\n"
   ]
  },
  {
   "cell_type": "markdown",
   "id": "5df394ed",
   "metadata": {},
   "source": [
    "## Juntando na base principal"
   ]
  },
  {
   "cell_type": "code",
   "execution_count": 264,
   "id": "8102f51c",
   "metadata": {},
   "outputs": [],
   "source": [
    "# Faz o join pelo ID_CLIENTE\n",
    "previsao_enriquecida = dados_previsao.merge(base_ult_hist, on='ID_CLIENTE', how='left', suffixes=('', '_HIST'))\n",
    "\n",
    "# Substitui VALOR_A_PAGAR ausente pela última disponível\n",
    "previsao_enriquecida['VALOR_A_PAGAR'] = previsao_enriquecida['VALOR_A_PAGAR'].fillna(previsao_enriquecida['VALOR_A_PAGAR_HIST'])\n"
   ]
  },
  {
   "cell_type": "code",
   "execution_count": 265,
   "id": "accd1c51",
   "metadata": {},
   "outputs": [
    {
     "data": {
      "text/plain": [
       "ID_CLIENTE                      0\n",
       "SAFRA_REF                       0\n",
       "VALOR_A_PAGAR                   0\n",
       "TAXA                            0\n",
       "FLAG_PF                        38\n",
       "SEGMENTO_INDUSTRIAL            38\n",
       "PORTE                          38\n",
       "CEP_2_DIG                      38\n",
       "VALOR_A_PAGAR_HIST            228\n",
       "HIST_PAGAMENTOS_ADIANTADOS    228\n",
       "HIST_DIAS_ATRASO_ACUMULADO    228\n",
       "HIST_DIAS_ATRASO_3M           228\n",
       "HIST_QTD_TRANSACOES           228\n",
       "HIST_VALOR_MEDIO_PAGO         228\n",
       "HIST_INADIMPLENTE_ULT_MES     228\n",
       "HIST_MEDIA_DIAS_ATRASO        228\n",
       "RENDA_MES_ANTERIOR            228\n",
       "NO_FUNCIONARIOS               228\n",
       "MES_EMISSAO                     0\n",
       "PRAZO_PAGAMENTO_DIAS            0\n",
       "dtype: int64"
      ]
     },
     "execution_count": 265,
     "metadata": {},
     "output_type": "execute_result"
    }
   ],
   "source": [
    "previsao_enriquecida = (\n",
    "    previsao_enriquecida\n",
    "    .assign(\n",
    "        MES_EMISSAO = previsao_enriquecida['DATA_EMISSAO_DOCUMENTO'].dt.month,\n",
    "    )\n",
    "    .assign(\n",
    "        PRAZO_PAGAMENTO_DIAS = (dados_previsao['DATA_VENCIMENTO'] - dados_previsao['DATA_EMISSAO_DOCUMENTO']).dt.days\n",
    "    )\n",
    "    .drop(columns=['DATA_EMISSAO_DOCUMENTO', 'DATA_VENCIMENTO', \"DATA_CADASTRO\", \"DOMINIO_EMAIL\"])\n",
    ")\n",
    "previsao_enriquecida.isnull().sum()\n"
   ]
  },
  {
   "cell_type": "markdown",
   "id": "c74206f5",
   "metadata": {},
   "source": [
    "### Verificação para nulos"
   ]
  },
  {
   "cell_type": "code",
   "execution_count": 224,
   "id": "9d17e97e",
   "metadata": {},
   "outputs": [
    {
     "name": "stdout",
     "output_type": "stream",
     "text": [
      "Nº de clientes possivelmente novos: 88\n",
      "Nº de clientes que NÃO estão nem na base de cadastro: 21\n"
     ]
    }
   ],
   "source": [
    "#Conferindo se os nulos estao realmente sendo gerados por clientes novos\n",
    "\n",
    "colunas_historicas = [\n",
    "    'HIST_PAGAMENTOS_ADIANTADOS', 'HIST_DIAS_ATRASO_ACUMULADO',\n",
    "    'HIST_DIAS_ATRASO_3M', 'HIST_QTD_TRANSACOES', 'HIST_VALOR_MEDIO_PAGO',\n",
    "    'HIST_INADIMPLENTE_ULT_MES', 'HIST_MEDIA_DIAS_ATRASO'\n",
    "]\n",
    "\n",
    "clientes_possivelmente_novos = previsao_enriquecida[\n",
    "    previsao_enriquecida[colunas_historicas].isnull().all(axis=1)\n",
    "]['ID_CLIENTE'].unique()\n",
    "\n",
    "print(f\"Nº de clientes possivelmente novos: {len(clientes_possivelmente_novos)}\")\n",
    "\n",
    "\n",
    "base_cadastro = pd.read_parquet('../data/intermediate/data_cadastro.parquet')\n",
    "\n",
    "clientes_nao_cadastrados = list(set(clientes_possivelmente_novos) - set(base_cadastro['ID_CLIENTE'].unique()))\n",
    "\n",
    "print(f\"Nº de clientes que NÃO estão nem na base de cadastro: {len(clientes_nao_cadastrados)}\")\n"
   ]
  },
  {
   "cell_type": "code",
   "execution_count": 225,
   "id": "32326407",
   "metadata": {},
   "outputs": [
    {
     "name": "stdout",
     "output_type": "stream",
     "text": [
      "Nº de duplicados: 0\n"
     ]
    }
   ],
   "source": [
    "duplicados = base_cadastro['ID_CLIENTE'].duplicated().sum()\n",
    "print(f\"Nº de duplicados: {duplicados}\")\n"
   ]
  },
  {
   "cell_type": "code",
   "execution_count": 227,
   "id": "82975ee3",
   "metadata": {},
   "outputs": [
    {
     "name": "stdout",
     "output_type": "stream",
     "text": [
      "Clientes cadastrados sem histórico: 67\n",
      "Clientes cadastrados com histórico: 0\n"
     ]
    }
   ],
   "source": [
    "clientes_possivelmente_novos = previsao_enriquecida[\n",
    "    previsao_enriquecida[colunas_historicas].isnull().all(axis=1)\n",
    "]['ID_CLIENTE'].unique()\n",
    "\n",
    "clientes_cadastrados = set(clientes_possivelmente_novos) - set(clientes_nao_cadastrados)\n",
    "\n",
    "clientes_no_historico = set(dados_historicos['ID_CLIENTE'].unique())\n",
    "\n",
    "clientes_cadastrados_sem_historico = clientes_cadastrados - clientes_no_historico\n",
    "clientes_cadastrados_com_historico = clientes_cadastrados & clientes_no_historico\n",
    "\n",
    "print(f\"Clientes cadastrados sem histórico: {len(clientes_cadastrados_sem_historico)}\")\n",
    "print(f\"Clientes cadastrados com histórico: {len(clientes_cadastrados_com_historico)}\")\n",
    "\n",
    "\n",
    "#Ou seja, os nulos estão dividos entre clientes cadastrados sem histórico e clientes novos\n"
   ]
  },
  {
   "cell_type": "code",
   "execution_count": 268,
   "id": "fe08f504",
   "metadata": {},
   "outputs": [
    {
     "data": {
      "text/plain": [
       "ID_CLIENTE                      0\n",
       "SAFRA_REF                       0\n",
       "VALOR_A_PAGAR                   0\n",
       "TAXA                            0\n",
       "FLAG_PF                        38\n",
       "SEGMENTO_INDUSTRIAL            38\n",
       "PORTE                          38\n",
       "CEP_2_DIG                      38\n",
       "VALOR_A_PAGAR_HIST            228\n",
       "HIST_PAGAMENTOS_ADIANTADOS      0\n",
       "HIST_DIAS_ATRASO_ACUMULADO      0\n",
       "HIST_DIAS_ATRASO_3M             0\n",
       "HIST_QTD_TRANSACOES             0\n",
       "HIST_VALOR_MEDIO_PAGO           0\n",
       "HIST_INADIMPLENTE_ULT_MES       0\n",
       "HIST_MEDIA_DIAS_ATRASO          0\n",
       "RENDA_MES_ANTERIOR            228\n",
       "NO_FUNCIONARIOS               228\n",
       "MES_EMISSAO                     0\n",
       "PRAZO_PAGAMENTO_DIAS            0\n",
       "dtype: int64"
      ]
     },
     "execution_count": 268,
     "metadata": {},
     "output_type": "execute_result"
    }
   ],
   "source": [
    "#Preencher históricos com 0\n",
    "\n",
    "colunas_historicas = [\n",
    "    'HIST_PAGAMENTOS_ADIANTADOS', 'HIST_DIAS_ATRASO_ACUMULADO',\n",
    "    'HIST_DIAS_ATRASO_3M', 'HIST_QTD_TRANSACOES', 'HIST_VALOR_MEDIO_PAGO',\n",
    "    'HIST_INADIMPLENTE_ULT_MES', 'HIST_MEDIA_DIAS_ATRASO'\n",
    "]\n",
    "\n",
    "# máscara booleana: True para linhas com todos os campos de histórico nulos\n",
    "mask_sem_historico = previsao_enriquecida[colunas_historicas].isnull().all(axis=1)\n",
    "\n",
    "previsao_enriquecida.loc[mask_sem_historico, colunas_historicas] = 0\n",
    "previsao_enriquecida.isnull().sum()\n"
   ]
  },
  {
   "cell_type": "code",
   "execution_count": null,
   "id": "cf05873d",
   "metadata": {},
   "outputs": [
    {
     "data": {
      "text/plain": [
       "ID_CLIENTE                      0\n",
       "SAFRA_REF                       0\n",
       "VALOR_A_PAGAR                   0\n",
       "TAXA                            0\n",
       "FLAG_PF                         0\n",
       "SEGMENTO_INDUSTRIAL             0\n",
       "PORTE                           0\n",
       "CEP_2_DIG                       0\n",
       "VALOR_A_PAGAR_HIST            228\n",
       "HIST_PAGAMENTOS_ADIANTADOS      0\n",
       "HIST_DIAS_ATRASO_ACUMULADO      0\n",
       "HIST_DIAS_ATRASO_3M             0\n",
       "HIST_QTD_TRANSACOES             0\n",
       "HIST_VALOR_MEDIO_PAGO           0\n",
       "HIST_INADIMPLENTE_ULT_MES       0\n",
       "HIST_MEDIA_DIAS_ATRASO          0\n",
       "RENDA_MES_ANTERIOR            228\n",
       "NO_FUNCIONARIOS               228\n",
       "MES_EMISSAO                     0\n",
       "PRAZO_PAGAMENTO_DIAS            0\n",
       "dtype: int64"
      ]
     },
     "execution_count": 271,
     "metadata": {},
     "output_type": "execute_result"
    }
   ],
   "source": [
    "#Preencher flag_pf, seg_indsutrial, porte e cep, com base nos valores a pagar \n",
    "#(se o valor a pagar é mais proximo da média de uma classe, preencher com essa classe)\n",
    "\n",
    "# Calcular médias por porte\n",
    "medias_por_porte = previsao_enriquecida.groupby('PORTE')['VALOR_A_PAGAR'].mean()\n",
    "\n",
    "# Calcular médias por CEP\n",
    "medias_por_cep = previsao_enriquecida.groupby('CEP_2_DIG')['VALOR_A_PAGAR'].mean()\n",
    "\n",
    "# Calcular media por seg_industrial\n",
    "medias_por_seg_industrial = previsao_enriquecida.groupby('SEGMENTO_INDUSTRIAL')['VALOR_A_PAGAR'].mean()\n",
    "\n",
    "# Calcular média por flag_pf\n",
    "medias_por_flag_pf = previsao_enriquecida.groupby('FLAG_PF')['VALOR_A_PAGAR'].mean()\n",
    "\n",
    "# Função de preenchimento\n",
    "def preencher_porte(row):\n",
    "    if pd.notna(row['PORTE']):\n",
    "        return row['PORTE']\n",
    "    if pd.isna(row['VALOR_A_PAGAR']):\n",
    "        return 'Desconhecido'\n",
    "    return medias_por_porte.sub(row['VALOR_A_PAGAR']).abs().idxmin()\n",
    "\n",
    "def preencher_cep(row):\n",
    "    if pd.notna(row['CEP_2_DIG']):\n",
    "        return row['CEP_2_DIG']\n",
    "    if pd.isna(row['VALOR_A_PAGAR']):\n",
    "        return 'Desconhecido'\n",
    "    return medias_por_cep.sub(row['VALOR_A_PAGAR']).abs().idxmin()\n",
    "\n",
    "\n",
    "def preencher_seg_industrial(row):\n",
    "    if pd.notna(row['SEGMENTO_INDUSTRIAL']):\n",
    "        return row['SEGMENTO_INDUSTRIAL']\n",
    "    if pd.isna(row['VALOR_A_PAGAR']):\n",
    "        return 'Desconhecido'\n",
    "    return medias_por_seg_industrial.sub(row['VALOR_A_PAGAR']).abs().idxmin()\n",
    "\n",
    "def preencher_flag_pf(row):\n",
    "    if pd.notna(row['FLAG_PF']):\n",
    "        return row['FLAG_PF']\n",
    "    if pd.isna(row['VALOR_A_PAGAR']):\n",
    "        return 'Desconhecido'\n",
    "    return medias_por_flag_pf.sub(row['VALOR_A_PAGAR']).abs().idxmin()\n",
    "\n",
    "\n",
    "previsao_enriquecida['PORTE'] = previsao_enriquecida.apply(preencher_porte, axis=1)\n",
    "previsao_enriquecida['CEP_2_DIG'] = previsao_enriquecida.apply(preencher_cep, axis=1)\n",
    "previsao_enriquecida['SEGMENTO_INDUSTRIAL'] = previsao_enriquecida.apply(preencher_seg_industrial, axis=1)\n",
    "previsao_enriquecida['FLAG_PF'] = previsao_enriquecida.apply(preencher_flag_pf, axis=1)\n",
    "\n",
    "previsao_enriquecida.isnull().sum()"
   ]
  },
  {
   "cell_type": "code",
   "execution_count": 272,
   "id": "390f8f32",
   "metadata": {},
   "outputs": [
    {
     "data": {
      "text/plain": [
       "ID_CLIENTE                      0\n",
       "SAFRA_REF                       0\n",
       "VALOR_A_PAGAR                   0\n",
       "TAXA                            0\n",
       "FLAG_PF                         0\n",
       "SEGMENTO_INDUSTRIAL             0\n",
       "PORTE                           0\n",
       "CEP_2_DIG                       0\n",
       "VALOR_A_PAGAR_HIST            228\n",
       "HIST_PAGAMENTOS_ADIANTADOS      0\n",
       "HIST_DIAS_ATRASO_ACUMULADO      0\n",
       "HIST_DIAS_ATRASO_3M             0\n",
       "HIST_QTD_TRANSACOES             0\n",
       "HIST_VALOR_MEDIO_PAGO           0\n",
       "HIST_INADIMPLENTE_ULT_MES       0\n",
       "HIST_MEDIA_DIAS_ATRASO          0\n",
       "RENDA_MES_ANTERIOR             33\n",
       "NO_FUNCIONARIOS                33\n",
       "MES_EMISSAO                     0\n",
       "PRAZO_PAGAMENTO_DIAS            0\n",
       "dtype: int64"
      ]
     },
     "execution_count": 272,
     "metadata": {},
     "output_type": "execute_result"
    }
   ],
   "source": [
    "#Para preencher as variaveis de renda_mes_anterior, no_funcionarios vamos usar agrupamento por seg e porte\n",
    "\n",
    "# Agrupar por segmento + porte\n",
    "medias_renda = previsao_enriquecida.groupby(['SEGMENTO_INDUSTRIAL', 'PORTE'])['RENDA_MES_ANTERIOR'].mean().reset_index()\n",
    "medias_func = previsao_enriquecida.groupby(['SEGMENTO_INDUSTRIAL', 'PORTE'])['NO_FUNCIONARIOS'].mean().reset_index()\n",
    "\n",
    "# Merge com a base\n",
    "previsao_enriquecida = previsao_enriquecida.merge(medias_renda, on=['SEGMENTO_INDUSTRIAL', 'PORTE'], how='left', suffixes=('', '_MEDIA'))\n",
    "previsao_enriquecida = previsao_enriquecida.merge(medias_func, on=['SEGMENTO_INDUSTRIAL', 'PORTE'], how='left', suffixes=('', '_FUNC'))\n",
    "\n",
    "# Preencher apenas onde está faltando\n",
    "previsao_enriquecida['RENDA_MES_ANTERIOR'] = previsao_enriquecida['RENDA_MES_ANTERIOR'].fillna(previsao_enriquecida['RENDA_MES_ANTERIOR_MEDIA'])\n",
    "previsao_enriquecida['NO_FUNCIONARIOS'] = previsao_enriquecida['NO_FUNCIONARIOS'].fillna(previsao_enriquecida['NO_FUNCIONARIOS_FUNC'])\n",
    "\n",
    "# Limpar colunas auxiliares\n",
    "previsao_enriquecida.drop(columns=['RENDA_MES_ANTERIOR_MEDIA', 'NO_FUNCIONARIOS_FUNC'], inplace=True)\n",
    "\n",
    "previsao_enriquecida.isnull().sum()\n"
   ]
  },
  {
   "cell_type": "code",
   "execution_count": 273,
   "id": "f3cc8146",
   "metadata": {},
   "outputs": [
    {
     "data": {
      "text/plain": [
       "ID_CLIENTE                      0\n",
       "SAFRA_REF                       0\n",
       "VALOR_A_PAGAR                   0\n",
       "TAXA                            0\n",
       "FLAG_PF                         0\n",
       "SEGMENTO_INDUSTRIAL             0\n",
       "PORTE                           0\n",
       "CEP_2_DIG                       0\n",
       "VALOR_A_PAGAR_HIST            228\n",
       "HIST_PAGAMENTOS_ADIANTADOS      0\n",
       "HIST_DIAS_ATRASO_ACUMULADO      0\n",
       "HIST_DIAS_ATRASO_3M             0\n",
       "HIST_QTD_TRANSACOES             0\n",
       "HIST_VALOR_MEDIO_PAGO           0\n",
       "HIST_INADIMPLENTE_ULT_MES       0\n",
       "HIST_MEDIA_DIAS_ATRASO          0\n",
       "RENDA_MES_ANTERIOR              0\n",
       "NO_FUNCIONARIOS                 0\n",
       "MES_EMISSAO                     0\n",
       "PRAZO_PAGAMENTO_DIAS            0\n",
       "dtype: int64"
      ]
     },
     "execution_count": 273,
     "metadata": {},
     "output_type": "execute_result"
    }
   ],
   "source": [
    "#Para lidarmos com combinações que não aparecem, vamos usar a mediana geral para preencher esses 33 faltantes\n",
    "\n",
    "# Preencher os valores restantes com a mediana geral\n",
    "previsao_enriquecida['RENDA_MES_ANTERIOR'] = previsao_enriquecida['RENDA_MES_ANTERIOR'].fillna(dados_historicos['RENDA_MES_ANTERIOR'].median())\n",
    "previsao_enriquecida['NO_FUNCIONARIOS'] = previsao_enriquecida['NO_FUNCIONARIOS'].fillna(dados_historicos['NO_FUNCIONARIOS'].median())\n",
    "\n",
    "\n",
    "previsao_enriquecida.isnull().sum()\n"
   ]
  },
  {
   "cell_type": "code",
   "execution_count": 282,
   "id": "166f5312",
   "metadata": {},
   "outputs": [
    {
     "data": {
      "text/plain": [
       "ID_CLIENTE                    0\n",
       "SAFRA_REF                     0\n",
       "VALOR_A_PAGAR                 0\n",
       "TAXA                          0\n",
       "FLAG_PF                       0\n",
       "SEGMENTO_INDUSTRIAL           0\n",
       "PORTE                         0\n",
       "CEP_2_DIG                     0\n",
       "HIST_PAGAMENTOS_ADIANTADOS    0\n",
       "HIST_DIAS_ATRASO_ACUMULADO    0\n",
       "HIST_DIAS_ATRASO_3M           0\n",
       "HIST_QTD_TRANSACOES           0\n",
       "HIST_VALOR_MEDIO_PAGO         0\n",
       "HIST_INADIMPLENTE_ULT_MES     0\n",
       "HIST_MEDIA_DIAS_ATRASO        0\n",
       "RENDA_MES_ANTERIOR            0\n",
       "NO_FUNCIONARIOS               0\n",
       "MES_EMISSAO                   0\n",
       "PRAZO_PAGAMENTO_DIAS          0\n",
       "dtype: int64"
      ]
     },
     "execution_count": 282,
     "metadata": {},
     "output_type": "execute_result"
    }
   ],
   "source": [
    "#Por fim, vamos preencher manualmente os nulos que restaram em valor a pagar hist como 0, ja que se tratam\n",
    "#de clientes sem histórico\n",
    "\n",
    "previsao_enriquecida = previsao_enriquecida.drop(columns=['VALOR_A_PAGAR_HIST'])\n",
    "previsao_enriquecida.isnull().sum()\n"
   ]
  },
  {
   "cell_type": "markdown",
   "id": "a9e9b74a",
   "metadata": {},
   "source": [
    "## Com nulos preenchidos adequadamente, vamos diexar as colunas 'CEP_2_DIG' e 'SEGMENTO_INDUSTRIAL' no encoding utilizado no modelo treinado"
   ]
  },
  {
   "cell_type": "code",
   "execution_count": 284,
   "id": "d3ff21e3",
   "metadata": {},
   "outputs": [
    {
     "name": "stdout",
     "output_type": "stream",
     "text": [
      "REGIAO_CEP\n",
      "Sudeste         5235\n",
      "Sul             2034\n",
      "Desconhecido    1908\n",
      "Nordeste        1709\n",
      "Centro-Oeste     786\n",
      "Norte            603\n",
      "Name: count, dtype: int64\n"
     ]
    }
   ],
   "source": [
    "def map_regiao_cep(cep2):\n",
    "    try:\n",
    "        cep2 = int(cep2)\n",
    "    except:\n",
    "        return 'Desconhecido'\n",
    "\n",
    "    if 1 <= cep2 <= 39:\n",
    "        return 'Sudeste'\n",
    "    elif cep2 in set(range(40, 50)) | set(range(60, 68)) | {67}:\n",
    "        return 'Nordeste'\n",
    "    elif cep2 in {68, 69, 77}:\n",
    "        return 'Norte'\n",
    "    elif cep2 in {70, 71, 72, 73, 74, 75, 76}:\n",
    "        return 'Centro-Oeste'\n",
    "    elif 80 <= cep2 <= 89:\n",
    "        return 'Sul'\n",
    "    else:\n",
    "        return 'Desconhecido'\n",
    "\n",
    "\n",
    "\n",
    "previsao_enriquecida['REGIAO_CEP'] = previsao_enriquecida['CEP_2_DIG'].apply(map_regiao_cep)\n",
    "\n",
    "# Confirme que a coluna foi criada\n",
    "print(previsao_enriquecida['REGIAO_CEP'].value_counts(dropna=False))\n"
   ]
  },
  {
   "cell_type": "code",
   "execution_count": 285,
   "id": "7d1799b6",
   "metadata": {},
   "outputs": [],
   "source": [
    "# Remover CEP_2_DIG e aplicar one-hot\n",
    "previsao_enriquecida.drop(columns='CEP_2_DIG', inplace=True)\n",
    "previsao_enriquecida = pd.get_dummies(previsao_enriquecida, columns=['REGIAO_CEP'], drop_first=True)"
   ]
  },
  {
   "cell_type": "code",
   "execution_count": 286,
   "id": "de6edc04",
   "metadata": {},
   "outputs": [],
   "source": [
    "# Label Encoding para PORTE (ordinals)\n",
    "previsao_enriquecida['PORTE'] = previsao_enriquecida['PORTE'].astype('category').cat.codes"
   ]
  },
  {
   "cell_type": "code",
   "execution_count": 287,
   "id": "7e7d8f0a",
   "metadata": {},
   "outputs": [],
   "source": [
    "# One-Hot Encoding para SEGMENTO_INDUSTRIAL\n",
    "colunas_onehot = ['SEGMENTO_INDUSTRIAL']\n",
    "previsao_enriquecida = pd.get_dummies(previsao_enriquecida, columns=colunas_onehot, drop_first=True)"
   ]
  },
  {
   "cell_type": "code",
   "execution_count": 299,
   "id": "d3cc9e0e",
   "metadata": {},
   "outputs": [],
   "source": [
    "previsao_enriquecida['FLAG_PF'] = (previsao_enriquecida['FLAG_PF'] == 'PF').astype(int)"
   ]
  },
  {
   "cell_type": "code",
   "execution_count": 300,
   "id": "98363896",
   "metadata": {},
   "outputs": [
    {
     "name": "stdout",
     "output_type": "stream",
     "text": [
      "Colunas finais após encoding:\n",
      "(12275, 25)\n"
     ]
    }
   ],
   "source": [
    "print(\"Colunas finais após encoding:\")\n",
    "print(previsao_enriquecida.shape)"
   ]
  },
  {
   "cell_type": "markdown",
   "id": "80d82c9e",
   "metadata": {},
   "source": [
    "## Previsão"
   ]
  },
  {
   "cell_type": "code",
   "execution_count": 301,
   "id": "01138c80",
   "metadata": {},
   "outputs": [
    {
     "data": {
      "text/plain": [
       "array(['VALOR_A_PAGAR', 'TAXA', 'PRAZO_PAGAMENTO_DIAS',\n",
       "       'HIST_PAGAMENTOS_ADIANTADOS', 'HIST_DIAS_ATRASO_ACUMULADO',\n",
       "       'HIST_DIAS_ATRASO_3M', 'HIST_QTD_TRANSACOES',\n",
       "       'HIST_VALOR_MEDIO_PAGO', 'HIST_INADIMPLENTE_ULT_MES',\n",
       "       'HIST_MEDIA_DIAS_ATRASO', 'FLAG_PF', 'PORTE', 'RENDA_MES_ANTERIOR',\n",
       "       'NO_FUNCIONARIOS', 'MES_EMISSAO', 'REGIAO_CEP_Desconhecido',\n",
       "       'REGIAO_CEP_Nordeste', 'REGIAO_CEP_Norte', 'REGIAO_CEP_Sudeste',\n",
       "       'REGIAO_CEP_Sul', 'SEGMENTO_INDUSTRIAL_Indústria',\n",
       "       'SEGMENTO_INDUSTRIAL_PJ', 'SEGMENTO_INDUSTRIAL_Serviços'],\n",
       "      dtype='<U29')"
      ]
     },
     "execution_count": 301,
     "metadata": {},
     "output_type": "execute_result"
    }
   ],
   "source": [
    "model.feature_names_in_"
   ]
  },
  {
   "cell_type": "code",
   "execution_count": 302,
   "id": "7a3d9242",
   "metadata": {},
   "outputs": [
    {
     "data": {
      "text/plain": [
       "Index(['ID_CLIENTE', 'SAFRA_REF', 'VALOR_A_PAGAR', 'TAXA', 'FLAG_PF', 'PORTE',\n",
       "       'HIST_PAGAMENTOS_ADIANTADOS', 'HIST_DIAS_ATRASO_ACUMULADO',\n",
       "       'HIST_DIAS_ATRASO_3M', 'HIST_QTD_TRANSACOES', 'HIST_VALOR_MEDIO_PAGO',\n",
       "       'HIST_INADIMPLENTE_ULT_MES', 'HIST_MEDIA_DIAS_ATRASO',\n",
       "       'RENDA_MES_ANTERIOR', 'NO_FUNCIONARIOS', 'MES_EMISSAO',\n",
       "       'PRAZO_PAGAMENTO_DIAS', 'REGIAO_CEP_Desconhecido',\n",
       "       'REGIAO_CEP_Nordeste', 'REGIAO_CEP_Norte', 'REGIAO_CEP_Sudeste',\n",
       "       'REGIAO_CEP_Sul', 'SEGMENTO_INDUSTRIAL_Indústria',\n",
       "       'SEGMENTO_INDUSTRIAL_PJ', 'SEGMENTO_INDUSTRIAL_Serviços'],\n",
       "      dtype='object')"
      ]
     },
     "execution_count": 302,
     "metadata": {},
     "output_type": "execute_result"
    }
   ],
   "source": [
    "previsao_enriquecida.columns"
   ]
  },
  {
   "cell_type": "code",
   "execution_count": 303,
   "id": "7ea5165d",
   "metadata": {},
   "outputs": [
    {
     "data": {
      "text/plain": [
       "FLAG_PF\n",
       "0    12199\n",
       "1       76\n",
       "Name: count, dtype: int64"
      ]
     },
     "execution_count": 303,
     "metadata": {},
     "output_type": "execute_result"
    }
   ],
   "source": [
    "previsao_enriquecida[\"FLAG_PF\"].value_counts()"
   ]
  },
  {
   "cell_type": "code",
   "execution_count": 304,
   "id": "d984521d",
   "metadata": {},
   "outputs": [
    {
     "data": {
      "text/plain": [
       "ID_CLIENTE                                int64\n",
       "SAFRA_REF                        datetime64[ns]\n",
       "VALOR_A_PAGAR                           float64\n",
       "TAXA                                    float64\n",
       "FLAG_PF                                   int64\n",
       "PORTE                                      int8\n",
       "HIST_PAGAMENTOS_ADIANTADOS              float64\n",
       "HIST_DIAS_ATRASO_ACUMULADO              float64\n",
       "HIST_DIAS_ATRASO_3M                     float64\n",
       "HIST_QTD_TRANSACOES                     float64\n",
       "HIST_VALOR_MEDIO_PAGO                   float64\n",
       "HIST_INADIMPLENTE_ULT_MES               float64\n",
       "HIST_MEDIA_DIAS_ATRASO                  float64\n",
       "RENDA_MES_ANTERIOR                      float64\n",
       "NO_FUNCIONARIOS                         float64\n",
       "MES_EMISSAO                               int32\n",
       "PRAZO_PAGAMENTO_DIAS                      int64\n",
       "REGIAO_CEP_Desconhecido                    bool\n",
       "REGIAO_CEP_Nordeste                        bool\n",
       "REGIAO_CEP_Norte                           bool\n",
       "REGIAO_CEP_Sudeste                         bool\n",
       "REGIAO_CEP_Sul                             bool\n",
       "SEGMENTO_INDUSTRIAL_Indústria              bool\n",
       "SEGMENTO_INDUSTRIAL_PJ                     bool\n",
       "SEGMENTO_INDUSTRIAL_Serviços               bool\n",
       "dtype: object"
      ]
     },
     "execution_count": 304,
     "metadata": {},
     "output_type": "execute_result"
    }
   ],
   "source": [
    "previsao_enriquecida.dtypes"
   ]
  },
  {
   "cell_type": "code",
   "execution_count": 305,
   "id": "174836fe",
   "metadata": {},
   "outputs": [
    {
     "data": {
      "text/html": [
       "<div>\n",
       "<style scoped>\n",
       "    .dataframe tbody tr th:only-of-type {\n",
       "        vertical-align: middle;\n",
       "    }\n",
       "\n",
       "    .dataframe tbody tr th {\n",
       "        vertical-align: top;\n",
       "    }\n",
       "\n",
       "    .dataframe thead th {\n",
       "        text-align: right;\n",
       "    }\n",
       "</style>\n",
       "<table border=\"1\" class=\"dataframe\">\n",
       "  <thead>\n",
       "    <tr style=\"text-align: right;\">\n",
       "      <th></th>\n",
       "      <th>ID_CLIENTE</th>\n",
       "      <th>SAFRA_REF</th>\n",
       "      <th>PROBABILIDADE_INADIMPLENCIA</th>\n",
       "    </tr>\n",
       "  </thead>\n",
       "  <tbody>\n",
       "    <tr>\n",
       "      <th>0</th>\n",
       "      <td>5058298901476893676</td>\n",
       "      <td>2021-07-01</td>\n",
       "      <td>0.013724</td>\n",
       "    </tr>\n",
       "    <tr>\n",
       "      <th>1</th>\n",
       "      <td>274692171162531764</td>\n",
       "      <td>2021-07-01</td>\n",
       "      <td>0.013990</td>\n",
       "    </tr>\n",
       "    <tr>\n",
       "      <th>2</th>\n",
       "      <td>274692171162531764</td>\n",
       "      <td>2021-07-01</td>\n",
       "      <td>0.014609</td>\n",
       "    </tr>\n",
       "    <tr>\n",
       "      <th>3</th>\n",
       "      <td>274692171162531764</td>\n",
       "      <td>2021-07-01</td>\n",
       "      <td>0.015224</td>\n",
       "    </tr>\n",
       "    <tr>\n",
       "      <th>4</th>\n",
       "      <td>465309249432033993</td>\n",
       "      <td>2021-07-01</td>\n",
       "      <td>0.007109</td>\n",
       "    </tr>\n",
       "  </tbody>\n",
       "</table>\n",
       "</div>"
      ],
      "text/plain": [
       "            ID_CLIENTE  SAFRA_REF  PROBABILIDADE_INADIMPLENCIA\n",
       "0  5058298901476893676 2021-07-01                     0.013724\n",
       "1   274692171162531764 2021-07-01                     0.013990\n",
       "2   274692171162531764 2021-07-01                     0.014609\n",
       "3   274692171162531764 2021-07-01                     0.015224\n",
       "4   465309249432033993 2021-07-01                     0.007109"
      ]
     },
     "execution_count": 305,
     "metadata": {},
     "output_type": "execute_result"
    }
   ],
   "source": [
    "# Para gerar o entregavel, vamos ter que salvar o ID e SAFRA para juntar apos prever a probabilidade de inadimplencia\n",
    "# 1. Guardar ID_CLIENTE e SAFRA_REF antes de montar X\n",
    "ids = previsao_enriquecida[['ID_CLIENTE', 'SAFRA_REF']].copy()\n",
    "\n",
    "# 2. Selecionar apenas as colunas usadas no modelo\n",
    "X_previsao = previsao_enriquecida[model.feature_names_in_]\n",
    "\n",
    "# 3. Gerar previsões de probabilidade (classe 1 = inadimplente)\n",
    "ids['PROBABILIDADE_INADIMPLENCIA'] = model.predict_proba(X_previsao)[:, 1]\n",
    "\n",
    "\n",
    "ids.head()\n",
    "\n"
   ]
  },
  {
   "cell_type": "code",
   "execution_count": 310,
   "id": "a8168b5c",
   "metadata": {},
   "outputs": [],
   "source": [
    "# Salvar\n",
    "ids.to_csv('../reports/submissao_case.csv', index=False)\n",
    "ids.to_csv('../submissao_case.csv', index=False)"
   ]
  }
 ],
 "metadata": {
  "kernelspec": {
   "display_name": ".venv",
   "language": "python",
   "name": "python3"
  },
  "language_info": {
   "codemirror_mode": {
    "name": "ipython",
    "version": 3
   },
   "file_extension": ".py",
   "mimetype": "text/x-python",
   "name": "python",
   "nbconvert_exporter": "python",
   "pygments_lexer": "ipython3",
   "version": "3.11.7"
  }
 },
 "nbformat": 4,
 "nbformat_minor": 5
}
